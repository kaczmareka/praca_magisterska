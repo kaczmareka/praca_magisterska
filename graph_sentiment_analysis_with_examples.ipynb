{
  "nbformat": 4,
  "nbformat_minor": 0,
  "metadata": {
    "colab": {
      "provenance": []
    },
    "kernelspec": {
      "name": "python3",
      "display_name": "Python 3"
    },
    "language_info": {
      "name": "python"
    }
  },
  "cells": [
    {
      "cell_type": "code",
      "source": [
        "!pip install nltk"
      ],
      "metadata": {
        "colab": {
          "base_uri": "https://localhost:8080/"
        },
        "id": "CJdpAjvi1kDA",
        "outputId": "5bd3bcdd-7f05-45df-b4c5-28959199ce06"
      },
      "execution_count": 1,
      "outputs": [
        {
          "output_type": "stream",
          "name": "stdout",
          "text": [
            "Requirement already satisfied: nltk in /usr/local/lib/python3.10/dist-packages (3.8.1)\n",
            "Requirement already satisfied: click in /usr/local/lib/python3.10/dist-packages (from nltk) (8.1.7)\n",
            "Requirement already satisfied: joblib in /usr/local/lib/python3.10/dist-packages (from nltk) (1.4.0)\n",
            "Requirement already satisfied: regex>=2021.8.3 in /usr/local/lib/python3.10/dist-packages (from nltk) (2023.12.25)\n",
            "Requirement already satisfied: tqdm in /usr/local/lib/python3.10/dist-packages (from nltk) (4.66.2)\n"
          ]
        }
      ]
    },
    {
      "cell_type": "markdown",
      "source": [
        "Vader scores calculation: https://github.dev/cjhutto/vaderSentiment/blob/master/vaderSentiment/vaderSentiment.py\n",
        "- compound: float(sum(sentiments_of_words)) +/- coefficient connected to number of \"!\" and \"?\" in the sentence; later normalized\n",
        "- pos: pos_sum +/- coefficient connected to number of \"!\" and \"?\", divided by total sentiment and abs\n",
        "- neg: neg_sum +/- coefficient connected to number of \"!\" and \"?\", divided by total sentiment(pos+abs(neg)+neutral) and abs\n",
        "- neu: neu_count, divided by total sentiment(pos+abs(neg)+neutral) and abs\n"
      ],
      "metadata": {
        "id": "Ch_NFMaEdC__"
      }
    },
    {
      "cell_type": "markdown",
      "source": [
        "# Sentiment analysis - graph based\n",
        "\n",
        "Sentiment analysis - graph based - general idea:\n",
        "\n",
        "For each text in dataset to get its sentiment:\n",
        "1. Get nouns, verbs, adjectives and NERs (e.g. with nltk library) - they will be the nodes of the graph. Only single words, no bigrams.\n",
        "2. The weights of edges between nodes will be created based on the distance in the original text between two given words. The weight will be the sum of inverses of distances between them in the whole text.\n",
        "3. For each word in node the sentiment will be calculated (e.g. with VADER model). The final outcome will be -1 for negative, 0 for neutral and 1 for positive.\n",
        "4. The sentiment will later be \"weighted\". This means that for each node the sentiment from VADER will be multiplied by scaled_sum_of_weights_of_edges_to_this_node (mean of sum of weights * number of occurencies of the word in original text).\n",
        "5. The sentiment of the whole text will be the normalized sum of weights for all nodes. There will be a certain threshold, which scores will be treated as neutral. In general, if sum_of_sentiment > 0 than positive, < 0 negative, ~0 neutral.\n",
        "\n",
        "\n",
        "\n",
        "More details:\n",
        "- there will be a possibility to choose\n",
        "\t\t- maximum number of nodes in the graph - selected will be topk words with most occurencies in the text\n",
        "\t\t- DONE max_distance between words to add the inverse to edge weight\n",
        "\t\t- DONE NER_list to provide NERs as the important ones to calculate and return the sentiment score for them instead of for the whole text\n",
        "\t\t- DONE calculate_overall_score -> to say if user wants to get the score of the whole text or just for given NERs\n",
        "    - DONE (can be as output) maybe just available dict with words and their sentiment"
      ],
      "metadata": {
        "id": "VWmJFwOu_Dw-"
      }
    },
    {
      "cell_type": "markdown",
      "source": [
        "# Ideas used:\n",
        "- for NER https://spacy.io/api/entityrecognizer\n",
        "\n",
        "- https://www.nltk.org/book/ch05.html\n",
        "\n",
        "- \"NLTK offers flexible algorithms for tasks like tokenization and part-of-speech tagging, while spaCy is renowned for its speed and performance, ideal for efficient NLP solutions.\"\n",
        "\n",
        "- https://spacy.io/usage/linguistic-features"
      ],
      "metadata": {
        "id": "k7c8HpGwE_n2"
      }
    },
    {
      "cell_type": "code",
      "source": [
        "import numpy as np"
      ],
      "metadata": {
        "id": "yzpzI39AJb32"
      },
      "execution_count": 21,
      "outputs": []
    },
    {
      "cell_type": "code",
      "source": [
        "import nltk\n",
        "# nltk.download('punkt')\n",
        "# nltk.download('averaged_perceptron_tagger')\n",
        "# nltk.download('tagsets')\n",
        "import spacy"
      ],
      "metadata": {
        "id": "r_3G_lWCAFsH"
      },
      "execution_count": 22,
      "outputs": []
    },
    {
      "cell_type": "code",
      "source": [
        "import nltk\n",
        "nltk.download('vader_lexicon')\n",
        "from nltk.sentiment.vader import SentimentIntensityAnalyzer"
      ],
      "metadata": {
        "colab": {
          "base_uri": "https://localhost:8080/"
        },
        "id": "xdL2QN43dwmM",
        "outputId": "8475d5bd-7653-473b-9008-8f16e49f258c"
      },
      "execution_count": 23,
      "outputs": [
        {
          "output_type": "stream",
          "name": "stderr",
          "text": [
            "[nltk_data] Downloading package vader_lexicon to /root/nltk_data...\n"
          ]
        }
      ]
    },
    {
      "cell_type": "code",
      "source": [
        "def find_ents(doc):\n",
        "  list_of_ents=[]\n",
        "  if doc.ents:\n",
        "    for ent in doc.ents:\n",
        "      list_of_ents.append(ent.text)\n",
        "  return list_of_ents"
      ],
      "metadata": {
        "id": "jXV0G_ciCn0-"
      },
      "execution_count": 24,
      "outputs": []
    },
    {
      "cell_type": "code",
      "source": [
        "def get_words_for_nodes(text, nlp, list_ners=[], lemmatization=False):\n",
        "  doc1 = nlp(text)\n",
        "  # find ners\n",
        "  if type(list_ners)==list and len(list_ners)>0:\n",
        "    ners=list_ners\n",
        "  else:\n",
        "    ners = find_ents(doc1) #maybe TO DO: find better way to get NER (what was Actaware idea for that? they are happy with it, so...)\n",
        "  # if I put lemmatization before ners, they do not catch everything, e.g. \"NY\"\n",
        "  if lemmatization:\n",
        "    #a co z podmiankami w tekście, jeśli on zwróci all w których jest \"be\" a w tekście są \"is\"? done\n",
        "    #TO DO: one of the experiments: does lemmatization change accuracy? and what is the influence on the performance?\n",
        "    lemmatized_tokens=[token.lemma_ for token in doc1]\n",
        "    text = ' '.join(lemmatized_tokens)\n",
        "    doc1=nlp(text)\n",
        "  tags=['JJ', 'JJR', 'JJS', 'NN', 'NNP', 'NNS', 'RB', 'RBR', 'RBS', 'VB', 'VBD', 'VBG', 'VBN', 'VBP', 'VBZ']\n",
        "  nouns_verbs_etc = [token.text for token in doc1 if token.tag_ in tags]\n",
        "  text2=\" \".join([str(word).replace(\" \", \"_\") for word in list(doc1)])\n",
        "  all_nodes=[str(word).replace(\" \", \"_\") for word in list(set(ners+nouns_verbs_etc))]\n",
        "  return all_nodes,text2, ners"
      ],
      "metadata": {
        "id": "dKvMNtT7_OBw"
      },
      "execution_count": 132,
      "outputs": []
    },
    {
      "cell_type": "code",
      "source": [
        "  all, text3, ners = get_words_for_nodes(\"what is super cool in NewYork and Abu Dhabi, this is NewYork\", lemmatization=True)"
      ],
      "metadata": {
        "id": "1bKIqBDAzzgN"
      },
      "execution_count": 26,
      "outputs": []
    },
    {
      "cell_type": "code",
      "source": [
        "all"
      ],
      "metadata": {
        "colab": {
          "base_uri": "https://localhost:8080/"
        },
        "id": "C7j0uNilEaZg",
        "outputId": "0360ce9d-3a48-41bb-a30a-0d430ddad40a"
      },
      "execution_count": 27,
      "outputs": [
        {
          "output_type": "execute_result",
          "data": {
            "text/plain": [
              "['super', 'cool', 'be', 'NewYork', 'Abu_Dhabi']"
            ]
          },
          "metadata": {},
          "execution_count": 27
        }
      ]
    },
    {
      "cell_type": "code",
      "source": [
        "text3"
      ],
      "metadata": {
        "colab": {
          "base_uri": "https://localhost:8080/",
          "height": 36
        },
        "id": "JS2EOfBdEZzW",
        "outputId": "fb2474e8-5362-4bd4-b1e4-b4b3c130c4ed"
      },
      "execution_count": 28,
      "outputs": [
        {
          "output_type": "execute_result",
          "data": {
            "text/plain": [
              "'what be super cool in NewYork and Abu_Dhabi , this be NewYork'"
            ],
            "application/vnd.google.colaboratory.intrinsic+json": {
              "type": "string"
            }
          },
          "metadata": {},
          "execution_count": 28
        }
      ]
    },
    {
      "cell_type": "markdown",
      "source": [
        "Links:\n",
        "- https://spacy.io/universe/project/video-spacys-ner-model\n",
        "- https://stackoverflow.com/questions/15388831/what-are-all-possible-pos-tags-of-nltk"
      ],
      "metadata": {
        "id": "EHe2N7eNBtev"
      }
    },
    {
      "cell_type": "markdown",
      "source": [
        "## weights of edges"
      ],
      "metadata": {
        "id": "EiRxRvYiGe0y"
      }
    },
    {
      "cell_type": "code",
      "source": [
        "def get_weights_of_edges(text, words, max_distance=20, ner_list=[]):\n",
        "  # if ner_list not empty, we should calculate the distances only between ners and other words\n",
        "  # and do not between other words and other words\n",
        "\n",
        "  list_from_text = text.split()\n",
        "  weight_matrix=np.zeros((len(words), len(words)))\n",
        "  occurences_list=np.zeros(len(words))\n",
        "  for i, word1 in enumerate(list_from_text):\n",
        "    j=i+1\n",
        "    try:\n",
        "      index1=words.index(word1)\n",
        "      occurences_list[index1]+=1\n",
        "    except ValueError:\n",
        "      pass\n",
        "    while j<=i+max_distance and j<len(list_from_text):\n",
        "      word2=list_from_text[j]\n",
        "      if len(ner_list) != 0 and (word1 in ner_list or word2 in ner_list):\n",
        "        try:\n",
        "          index1=words.index(word1)\n",
        "          index2=words.index(word2)\n",
        "          distance=j-i\n",
        "          if distance!=0:\n",
        "            inv_distance=1/distance\n",
        "            weight_matrix[index1][index2]+=inv_distance\n",
        "        except ValueError:\n",
        "          pass\n",
        "      elif len(ner_list)==0:\n",
        "        try:\n",
        "          index1=words.index(word1)\n",
        "          index2=words.index(word2)\n",
        "          distance=j-i\n",
        "          if distance!=0:\n",
        "            inv_distance=1/distance\n",
        "            weight_matrix[index1][index2]+=inv_distance\n",
        "        except ValueError:\n",
        "          pass\n",
        "      else:\n",
        "        pass\n",
        "      j+=1\n",
        "  # upper_right_ones=np.triu(np.ones(len(words)))\n",
        "  # return (weight_matrix+weight_matrix.T)*upper_right_ones, occurences_list\n",
        "  return weight_matrix, occurences_list"
      ],
      "metadata": {
        "id": "LnHlYAKKGgja"
      },
      "execution_count": 29,
      "outputs": []
    },
    {
      "cell_type": "code",
      "source": [
        "text3"
      ],
      "metadata": {
        "colab": {
          "base_uri": "https://localhost:8080/",
          "height": 36
        },
        "id": "3xjqYc5uKq5B",
        "outputId": "fbfa6d77-818d-42d5-a887-8d6a610ba26f"
      },
      "execution_count": 30,
      "outputs": [
        {
          "output_type": "execute_result",
          "data": {
            "text/plain": [
              "'what be super cool in NewYork and Abu_Dhabi , this be NewYork'"
            ],
            "application/vnd.google.colaboratory.intrinsic+json": {
              "type": "string"
            }
          },
          "metadata": {},
          "execution_count": 30
        }
      ]
    },
    {
      "cell_type": "code",
      "source": [
        "all"
      ],
      "metadata": {
        "colab": {
          "base_uri": "https://localhost:8080/"
        },
        "id": "p4sPeG4bKrVk",
        "outputId": "685abb3e-4aad-418a-a2eb-cc7c23d8a394"
      },
      "execution_count": 31,
      "outputs": [
        {
          "output_type": "execute_result",
          "data": {
            "text/plain": [
              "['super', 'cool', 'be', 'NewYork', 'Abu_Dhabi']"
            ]
          },
          "metadata": {},
          "execution_count": 31
        }
      ]
    },
    {
      "cell_type": "code",
      "source": [
        "weight_matrix, occ_list=get_weights_of_edges(text3, all, max_distance=20, ner_list=[])"
      ],
      "metadata": {
        "id": "m7YoQnaZKs2h"
      },
      "execution_count": 32,
      "outputs": []
    },
    {
      "cell_type": "code",
      "source": [
        "occ_list"
      ],
      "metadata": {
        "colab": {
          "base_uri": "https://localhost:8080/"
        },
        "id": "oV7Zmv8QZg3T",
        "outputId": "25248dd2-16b7-4670-e4d8-1b04e5706333"
      },
      "execution_count": 33,
      "outputs": [
        {
          "output_type": "execute_result",
          "data": {
            "text/plain": [
              "array([1., 1., 2., 2., 1.])"
            ]
          },
          "metadata": {},
          "execution_count": 33
        }
      ]
    },
    {
      "cell_type": "code",
      "source": [
        "weight_matrix"
      ],
      "metadata": {
        "colab": {
          "base_uri": "https://localhost:8080/"
        },
        "id": "AjN9P6hCapF5",
        "outputId": "6afa4460-888a-40ea-fb91-5cedda2cec0c"
      },
      "execution_count": 34,
      "outputs": [
        {
          "output_type": "execute_result",
          "data": {
            "text/plain": [
              "array([[0.        , 1.        , 0.125     , 0.44444444, 0.2       ],\n",
              "       [0.        , 0.        , 0.14285714, 0.625     , 0.25      ],\n",
              "       [1.        , 0.5       , 0.11111111, 1.35      , 0.16666667],\n",
              "       [0.        , 0.        , 0.2       , 0.16666667, 0.5       ],\n",
              "       [0.        , 0.        , 0.33333333, 0.25      , 0.        ]])"
            ]
          },
          "metadata": {},
          "execution_count": 34
        }
      ]
    },
    {
      "cell_type": "code",
      "source": [
        "weight_matrix2, occ_list2=get_weights_of_edges(text3, all, max_distance=20, ner_list=['super'])\n",
        "weight_matrix2"
      ],
      "metadata": {
        "colab": {
          "base_uri": "https://localhost:8080/"
        },
        "id": "Uyq06BVl2Xyf",
        "outputId": "d1b7c15e-c309-4e80-f5da-374667927bcd"
      },
      "execution_count": 35,
      "outputs": [
        {
          "output_type": "execute_result",
          "data": {
            "text/plain": [
              "array([[0.        , 1.        , 0.125     , 0.44444444, 0.2       ],\n",
              "       [0.        , 0.        , 0.        , 0.        , 0.        ],\n",
              "       [1.        , 0.        , 0.        , 0.        , 0.        ],\n",
              "       [0.        , 0.        , 0.        , 0.        , 0.        ],\n",
              "       [0.        , 0.        , 0.        , 0.        , 0.        ]])"
            ]
          },
          "metadata": {},
          "execution_count": 35
        }
      ]
    },
    {
      "cell_type": "markdown",
      "source": [
        "# sentiment for each node\n",
        "\n",
        "'compound' - The normalized compound score which calculates the sum of all lexicon ratings and takes values from -1 to 1"
      ],
      "metadata": {
        "id": "3Wi4AK6sdp34"
      }
    },
    {
      "cell_type": "code",
      "source": [
        "def calculate_sentiment_for_nodes(text, compound=False):\n",
        "  analyzer = SentimentIntensityAnalyzer()\n",
        "  # Loop through the words/ bigrams from 1. and get the sentiment scores for each one\n",
        "  sentiment_scores=np.zeros(len(text))\n",
        "  for i, text in enumerate(text):\n",
        "    scores=analyzer.polarity_scores(text)\n",
        "    if compound:\n",
        "      sentiment_scores[i]=scores['compound']\n",
        "    else:\n",
        "      if scores['neg']==1.0:\n",
        "        sentiment_scores[i]=-1\n",
        "      elif scores['pos']==1.0:\n",
        "        sentiment_scores[i]=1\n",
        "  return sentiment_scores"
      ],
      "metadata": {
        "id": "6VXXmt_B6qPy"
      },
      "execution_count": 36,
      "outputs": []
    },
    {
      "cell_type": "code",
      "source": [
        "calculate_sentiment_for_nodes(all, compound=False)"
      ],
      "metadata": {
        "colab": {
          "base_uri": "https://localhost:8080/"
        },
        "id": "yYfSzgXkfQ4F",
        "outputId": "7562a8b5-193b-4969-a807-57629d8cdbd6"
      },
      "execution_count": 37,
      "outputs": [
        {
          "output_type": "execute_result",
          "data": {
            "text/plain": [
              "array([1., 1., 0., 0., 0.])"
            ]
          },
          "metadata": {},
          "execution_count": 37
        }
      ]
    },
    {
      "cell_type": "code",
      "source": [
        "sentiment_scores=calculate_sentiment_for_nodes(all, compound=True)"
      ],
      "metadata": {
        "id": "MAkc3RwBfVFT"
      },
      "execution_count": 38,
      "outputs": []
    },
    {
      "cell_type": "markdown",
      "source": [
        "# weighting of the sentiment"
      ],
      "metadata": {
        "id": "kPRPzn1Bfgxo"
      }
    },
    {
      "cell_type": "code",
      "source": [
        "weight_matrix"
      ],
      "metadata": {
        "colab": {
          "base_uri": "https://localhost:8080/"
        },
        "id": "HH5-VIh_erCu",
        "outputId": "9af3bd5d-5b20-43e8-afaf-72bb6bbfdc9a"
      },
      "execution_count": 39,
      "outputs": [
        {
          "output_type": "execute_result",
          "data": {
            "text/plain": [
              "array([[0.        , 1.        , 0.125     , 0.44444444, 0.2       ],\n",
              "       [0.        , 0.        , 0.14285714, 0.625     , 0.25      ],\n",
              "       [1.        , 0.5       , 0.11111111, 1.35      , 0.16666667],\n",
              "       [0.        , 0.        , 0.2       , 0.16666667, 0.5       ],\n",
              "       [0.        , 0.        , 0.33333333, 0.25      , 0.        ]])"
            ]
          },
          "metadata": {},
          "execution_count": 39
        }
      ]
    },
    {
      "cell_type": "code",
      "source": [
        "sentiment_scores"
      ],
      "metadata": {
        "colab": {
          "base_uri": "https://localhost:8080/"
        },
        "id": "OJkTIepIfpyZ",
        "outputId": "a6fa2058-dfa0-465f-9c3f-01bf35caddfa"
      },
      "execution_count": 40,
      "outputs": [
        {
          "output_type": "execute_result",
          "data": {
            "text/plain": [
              "array([0.5994, 0.3182, 0.    , 0.    , 0.    ])"
            ]
          },
          "metadata": {},
          "execution_count": 40
        }
      ]
    },
    {
      "cell_type": "code",
      "source": [
        "occ_list"
      ],
      "metadata": {
        "colab": {
          "base_uri": "https://localhost:8080/"
        },
        "id": "0OUi_ddmfq_l",
        "outputId": "14b712fc-2f85-46b7-e839-4c00b6ccc650"
      },
      "execution_count": 41,
      "outputs": [
        {
          "output_type": "execute_result",
          "data": {
            "text/plain": [
              "array([1., 1., 2., 2., 1.])"
            ]
          },
          "metadata": {},
          "execution_count": 41
        }
      ]
    },
    {
      "cell_type": "code",
      "source": [
        "def weighted_sentiment_func(weight_matrix, occ_list, sentiment_scores, words, ner_list=[]):\n",
        "  sum_columns_weights=np.sum(weight_matrix, axis=0)\n",
        "  sum_rows_weights=np.sum(weight_matrix, axis=1)\n",
        "  if len(ner_list)!=0: #if ners are predefined, calculate only for them\n",
        "    for i, word in enumerate(words):\n",
        "      if word not in ner_list:\n",
        "        sum_columns_weights[i]=0\n",
        "        sum_rows_weights[i]=0\n",
        "  sum_all_weights=sum_columns_weights+sum_rows_weights\n",
        "  count_nonzero_weights_columns=np.count_nonzero(weight_matrix, axis=0)\n",
        "  count_nonzero_weights_rows=np.count_nonzero(weight_matrix, axis=1)\n",
        "  count_nonzero_weights=count_nonzero_weights_columns+count_nonzero_weights_rows\n",
        "  count_nonzero_weights[count_nonzero_weights==0]=1\n",
        "  mean_columns_weights=sum_all_weights/count_nonzero_weights\n",
        "  total_weight=mean_columns_weights*occ_list\n",
        "  return total_weight*sentiment_scores"
      ],
      "metadata": {
        "id": "M-uPFw8bglqE"
      },
      "execution_count": 64,
      "outputs": []
    },
    {
      "cell_type": "code",
      "source": [
        "weight_matrix2"
      ],
      "metadata": {
        "colab": {
          "base_uri": "https://localhost:8080/"
        },
        "id": "xuGbAoUQ539N",
        "outputId": "a97b68b9-34ed-4242-8b5d-1a09a2736158"
      },
      "execution_count": 43,
      "outputs": [
        {
          "output_type": "execute_result",
          "data": {
            "text/plain": [
              "array([[0.        , 1.        , 0.125     , 0.44444444, 0.2       ],\n",
              "       [0.        , 0.        , 0.        , 0.        , 0.        ],\n",
              "       [1.        , 0.        , 0.        , 0.        , 0.        ],\n",
              "       [0.        , 0.        , 0.        , 0.        , 0.        ],\n",
              "       [0.        , 0.        , 0.        , 0.        , 0.        ]])"
            ]
          },
          "metadata": {},
          "execution_count": 43
        }
      ]
    },
    {
      "cell_type": "code",
      "source": [
        "weight_matrix"
      ],
      "metadata": {
        "colab": {
          "base_uri": "https://localhost:8080/"
        },
        "id": "wTjaFk0C67DP",
        "outputId": "5377176b-8a43-4232-ade0-5422e3f66a22"
      },
      "execution_count": 44,
      "outputs": [
        {
          "output_type": "execute_result",
          "data": {
            "text/plain": [
              "array([[0.        , 1.        , 0.125     , 0.44444444, 0.2       ],\n",
              "       [0.        , 0.        , 0.14285714, 0.625     , 0.25      ],\n",
              "       [1.        , 0.5       , 0.11111111, 1.35      , 0.16666667],\n",
              "       [0.        , 0.        , 0.2       , 0.16666667, 0.5       ],\n",
              "       [0.        , 0.        , 0.33333333, 0.25      , 0.        ]])"
            ]
          },
          "metadata": {},
          "execution_count": 44
        }
      ]
    },
    {
      "cell_type": "code",
      "source": [
        "weighted_sentiment=weighted_sentiment_func(weight_matrix, occ_list, sentiment_scores, all)"
      ],
      "metadata": {
        "id": "0RoLKhtgg2c0"
      },
      "execution_count": 45,
      "outputs": []
    },
    {
      "cell_type": "code",
      "source": [
        "weighted_sentiment"
      ],
      "metadata": {
        "colab": {
          "base_uri": "https://localhost:8080/"
        },
        "id": "9drTw4dn5EEn",
        "outputId": "e566dfc9-fd93-4497-db07-f352cd6a4804"
      },
      "execution_count": 46,
      "outputs": [
        {
          "output_type": "execute_result",
          "data": {
            "text/plain": [
              "array([0.332001  , 0.16023643, 0.        , 0.        , 0.        ])"
            ]
          },
          "metadata": {},
          "execution_count": 46
        }
      ]
    },
    {
      "cell_type": "code",
      "source": [
        "weighted_sentiment=weighted_sentiment_func(weight_matrix2, occ_list, sentiment_scores, all, ner_list=[\"super\"])"
      ],
      "metadata": {
        "id": "mZArw2Gw5GJ1"
      },
      "execution_count": 47,
      "outputs": []
    },
    {
      "cell_type": "code",
      "source": [
        "all #'super' is first on list"
      ],
      "metadata": {
        "colab": {
          "base_uri": "https://localhost:8080/"
        },
        "id": "wXb04zMytFkX",
        "outputId": "a3c6417e-b449-4769-a3a7-c31272d0bdee"
      },
      "execution_count": 48,
      "outputs": [
        {
          "output_type": "execute_result",
          "data": {
            "text/plain": [
              "['super', 'cool', 'be', 'NewYork', 'Abu_Dhabi']"
            ]
          },
          "metadata": {},
          "execution_count": 48
        }
      ]
    },
    {
      "cell_type": "code",
      "source": [
        "weighted_sentiment #value of sentiment for 'super' is the first one - the only non zero here"
      ],
      "metadata": {
        "colab": {
          "base_uri": "https://localhost:8080/"
        },
        "id": "iDyLmh7m5YO2",
        "outputId": "59dbef88-c13d-4dcd-abfc-5b4dc46f66ac"
      },
      "execution_count": 49,
      "outputs": [
        {
          "output_type": "execute_result",
          "data": {
            "text/plain": [
              "array([0.332001, 0.      , 0.      , 0.      , 0.      ])"
            ]
          },
          "metadata": {},
          "execution_count": 49
        }
      ]
    },
    {
      "cell_type": "markdown",
      "source": [
        "# sentiment of the whole text\n",
        "\n",
        "normalized?"
      ],
      "metadata": {
        "id": "B8rNsENihdp0"
      }
    },
    {
      "cell_type": "code",
      "source": [
        "np.sum(weighted_sentiment)"
      ],
      "metadata": {
        "colab": {
          "base_uri": "https://localhost:8080/"
        },
        "id": "a6ILtZEehqaN",
        "outputId": "d9fe7dc8-aed9-4f51-a17f-1be6cc5afeaa"
      },
      "execution_count": 50,
      "outputs": [
        {
          "output_type": "execute_result",
          "data": {
            "text/plain": [
              "0.332001"
            ]
          },
          "metadata": {},
          "execution_count": 50
        }
      ]
    },
    {
      "cell_type": "code",
      "source": [
        "def calculate_sentiment_of_text(weighted_sentiment, threshold=0.05, output_number=False):\n",
        "  sum_sentiment=np.sum(weighted_sentiment)\n",
        "  if output_number:\n",
        "    if sum_sentiment>threshold:\n",
        "      return 1\n",
        "    elif sum_sentiment<-threshold:\n",
        "      return -1\n",
        "    else:\n",
        "      return 0\n",
        "  else:\n",
        "    if sum_sentiment>threshold:\n",
        "      return \"positive\"\n",
        "    elif sum_sentiment<-threshold:\n",
        "      return \"negative\"\n",
        "    else:\n",
        "      return \"neutral\""
      ],
      "metadata": {
        "id": "UDFFM9Ohg8M9"
      },
      "execution_count": 51,
      "outputs": []
    },
    {
      "cell_type": "code",
      "source": [
        "calculate_sentiment_of_text(weighted_sentiment)"
      ],
      "metadata": {
        "colab": {
          "base_uri": "https://localhost:8080/",
          "height": 36
        },
        "id": "PMvf6QtCiBhe",
        "outputId": "d9f9634a-1b2d-4a1b-cb46-fd91072b8517"
      },
      "execution_count": 52,
      "outputs": [
        {
          "output_type": "execute_result",
          "data": {
            "text/plain": [
              "'positive'"
            ],
            "application/vnd.google.colaboratory.intrinsic+json": {
              "type": "string"
            }
          },
          "metadata": {},
          "execution_count": 52
        }
      ]
    },
    {
      "cell_type": "code",
      "source": [
        "calculate_sentiment_of_text([-1,2,-4])"
      ],
      "metadata": {
        "colab": {
          "base_uri": "https://localhost:8080/",
          "height": 36
        },
        "id": "gfHtEidkiRuU",
        "outputId": "d0624caa-05ad-461e-cbec-b13b03e39805"
      },
      "execution_count": 53,
      "outputs": [
        {
          "output_type": "execute_result",
          "data": {
            "text/plain": [
              "'negative'"
            ],
            "application/vnd.google.colaboratory.intrinsic+json": {
              "type": "string"
            }
          },
          "metadata": {},
          "execution_count": 53
        }
      ]
    },
    {
      "cell_type": "code",
      "source": [
        "calculate_sentiment_of_text([0.5, -0.45], output_number=True)"
      ],
      "metadata": {
        "colab": {
          "base_uri": "https://localhost:8080/"
        },
        "id": "D2fY3u7SiQB0",
        "outputId": "71ab15b2-3567-451b-f67c-421516293019"
      },
      "execution_count": 54,
      "outputs": [
        {
          "output_type": "execute_result",
          "data": {
            "text/plain": [
              "0"
            ]
          },
          "metadata": {},
          "execution_count": 54
        }
      ]
    },
    {
      "cell_type": "markdown",
      "source": [
        "# run all at once"
      ],
      "metadata": {
        "id": "0NyS7uq-1fRF"
      }
    },
    {
      "cell_type": "code",
      "source": [
        "def graph_sentiment_analysis(text, nlp, lemmatization=False, max_distance=20, ner_list=[], compound=False, output_number=False, calculate_overall_score=1, threshold=0.05):\n",
        "  words_all, text_all, ners_all = get_words_for_nodes(text, lemmatization=lemmatization, nlp=nlp)\n",
        "  weight_matrix_all, occ_list_all=get_weights_of_edges(text_all, words_all, max_distance=max_distance, ner_list=ner_list)\n",
        "  sentiment_scores_all=calculate_sentiment_for_nodes(words_all, compound=compound)\n",
        "  weighted_sentiment_all=weighted_sentiment_func(weight_matrix_all, occ_list_all, sentiment_scores_all, words=words_all, ner_list=ner_list)\n",
        "  if calculate_overall_score==1:\n",
        "    return calculate_sentiment_of_text(weighted_sentiment_all, output_number=output_number, threshold=threshold)\n",
        "  elif calculate_overall_score==0:\n",
        "    return dict(zip(words_all, weighted_sentiment_all))\n",
        "  else:\n",
        "    words_all.append(\"overall_sentiment\")\n",
        "    weighted_sentiment_all=list(weighted_sentiment_all)\n",
        "    weighted_sentiment_all.append(calculate_sentiment_of_text(weighted_sentiment_all, output_number=True))\n",
        "    return dict(zip(words_all, weighted_sentiment_all))"
      ],
      "metadata": {
        "id": "c9jC63oO1Ke3"
      },
      "execution_count": 86,
      "outputs": []
    },
    {
      "cell_type": "code",
      "source": [
        "graph_sentiment_analysis(\"you are liar, Tom\", calculate_overall_score=1)"
      ],
      "metadata": {
        "colab": {
          "base_uri": "https://localhost:8080/",
          "height": 36
        },
        "id": "iQVpcM_Ztm9q",
        "outputId": "f64e7a22-6b34-4804-c621-e8bf7658c93d"
      },
      "execution_count": 56,
      "outputs": [
        {
          "output_type": "execute_result",
          "data": {
            "text/plain": [
              "'negative'"
            ],
            "application/vnd.google.colaboratory.intrinsic+json": {
              "type": "string"
            }
          },
          "metadata": {},
          "execution_count": 56
        }
      ]
    },
    {
      "cell_type": "code",
      "source": [
        "graph_sentiment_analysis(\"you are liar, Tom\", calculate_overall_score=0)"
      ],
      "metadata": {
        "colab": {
          "base_uri": "https://localhost:8080/"
        },
        "id": "AtDBUPCPvtfv",
        "outputId": "7fa15fc9-6607-4db8-cb17-f49534bee08e"
      },
      "execution_count": 57,
      "outputs": [
        {
          "output_type": "execute_result",
          "data": {
            "text/plain": [
              "{'are': 0.0, 'liar': -0.75, 'Tom': 0.0}"
            ]
          },
          "metadata": {},
          "execution_count": 57
        }
      ]
    },
    {
      "cell_type": "code",
      "source": [
        "graph_sentiment_analysis(\"you are liar, Tom\", calculate_overall_score=3)"
      ],
      "metadata": {
        "colab": {
          "base_uri": "https://localhost:8080/"
        },
        "id": "v92iZUxY12iY",
        "outputId": "b1ea8ca2-68d5-4524-ed39-e1ec40eca9f1"
      },
      "execution_count": 58,
      "outputs": [
        {
          "output_type": "execute_result",
          "data": {
            "text/plain": [
              "{'are': 0.0, 'liar': -0.75, 'Tom': 0.0, 'overall_sentiment': -1}"
            ]
          },
          "metadata": {},
          "execution_count": 58
        }
      ]
    },
    {
      "cell_type": "code",
      "source": [
        "graph_sentiment_analysis(\"you are liar, Tom\", calculate_overall_score=3, ner_list=['Tom', 'liar'])"
      ],
      "metadata": {
        "colab": {
          "base_uri": "https://localhost:8080/"
        },
        "id": "o57CO-WK132G",
        "outputId": "30bc11d6-8410-4a0c-bb2b-419155147f94"
      },
      "execution_count": 59,
      "outputs": [
        {
          "output_type": "execute_result",
          "data": {
            "text/plain": [
              "{'are': 0.0, 'liar': -0.75, 'Tom': 0.0, 'overall_sentiment': -1}"
            ]
          },
          "metadata": {},
          "execution_count": 59
        }
      ]
    },
    {
      "cell_type": "markdown",
      "source": [
        "# tests for twitter sentiment extraction dataset\n",
        "\n",
        "https://www.kaggle.com/competitions/tweet-sentiment-extraction/data"
      ],
      "metadata": {
        "id": "evtGdavo3ZSa"
      }
    },
    {
      "cell_type": "code",
      "source": [
        "import pandas as pd"
      ],
      "metadata": {
        "id": "_9mfrYk6sBpk"
      },
      "execution_count": 1,
      "outputs": []
    },
    {
      "cell_type": "code",
      "source": [
        "test_tse_data=pd.read_csv(\"/content/drive/MyDrive/Stuuudia/Magisterka/other_datasets_for_tests/tweet-sentiment-extraction/test.csv\")"
      ],
      "metadata": {
        "id": "1b8zXJMbr9Iq"
      },
      "execution_count": 111,
      "outputs": []
    },
    {
      "cell_type": "code",
      "source": [
        "test_tse_data"
      ],
      "metadata": {
        "colab": {
          "base_uri": "https://localhost:8080/",
          "height": 423
        },
        "id": "Qu0Lu01psQDv",
        "outputId": "42b28f6e-8a1b-47ad-f9ce-d206e0afb0d3"
      },
      "execution_count": 112,
      "outputs": [
        {
          "output_type": "execute_result",
          "data": {
            "text/plain": [
              "          textID                                               text sentiment\n",
              "0     f87dea47db  Last session of the day  http://twitpic.com/67ezh   neutral\n",
              "1     96d74cb729   Shanghai is also really exciting (precisely -...  positive\n",
              "2     eee518ae67  Recession hit Veronique Branquinho, she has to...  negative\n",
              "3     01082688c6                                        happy bday!  positive\n",
              "4     33987a8ee5             http://twitpic.com/4w75p - I like it!!  positive\n",
              "...          ...                                                ...       ...\n",
              "3529  e5f0e6ef4b  its at 3 am, im very tired but i can`t sleep  ...  negative\n",
              "3530  416863ce47  All alone in this old house again.  Thanks for...  positive\n",
              "3531  6332da480c   I know what you mean. My little dog is sinkin...  negative\n",
              "3532  df1baec676  _sutra what is your next youtube video gonna b...  positive\n",
              "3533  469e15c5a8   http://twitpic.com/4woj2 - omgssh  ang cute n...  positive\n",
              "\n",
              "[3534 rows x 3 columns]"
            ],
            "text/html": [
              "\n",
              "  <div id=\"df-bdca1deb-b69e-45b0-a39b-a656f679c86b\" class=\"colab-df-container\">\n",
              "    <div>\n",
              "<style scoped>\n",
              "    .dataframe tbody tr th:only-of-type {\n",
              "        vertical-align: middle;\n",
              "    }\n",
              "\n",
              "    .dataframe tbody tr th {\n",
              "        vertical-align: top;\n",
              "    }\n",
              "\n",
              "    .dataframe thead th {\n",
              "        text-align: right;\n",
              "    }\n",
              "</style>\n",
              "<table border=\"1\" class=\"dataframe\">\n",
              "  <thead>\n",
              "    <tr style=\"text-align: right;\">\n",
              "      <th></th>\n",
              "      <th>textID</th>\n",
              "      <th>text</th>\n",
              "      <th>sentiment</th>\n",
              "    </tr>\n",
              "  </thead>\n",
              "  <tbody>\n",
              "    <tr>\n",
              "      <th>0</th>\n",
              "      <td>f87dea47db</td>\n",
              "      <td>Last session of the day  http://twitpic.com/67ezh</td>\n",
              "      <td>neutral</td>\n",
              "    </tr>\n",
              "    <tr>\n",
              "      <th>1</th>\n",
              "      <td>96d74cb729</td>\n",
              "      <td>Shanghai is also really exciting (precisely -...</td>\n",
              "      <td>positive</td>\n",
              "    </tr>\n",
              "    <tr>\n",
              "      <th>2</th>\n",
              "      <td>eee518ae67</td>\n",
              "      <td>Recession hit Veronique Branquinho, she has to...</td>\n",
              "      <td>negative</td>\n",
              "    </tr>\n",
              "    <tr>\n",
              "      <th>3</th>\n",
              "      <td>01082688c6</td>\n",
              "      <td>happy bday!</td>\n",
              "      <td>positive</td>\n",
              "    </tr>\n",
              "    <tr>\n",
              "      <th>4</th>\n",
              "      <td>33987a8ee5</td>\n",
              "      <td>http://twitpic.com/4w75p - I like it!!</td>\n",
              "      <td>positive</td>\n",
              "    </tr>\n",
              "    <tr>\n",
              "      <th>...</th>\n",
              "      <td>...</td>\n",
              "      <td>...</td>\n",
              "      <td>...</td>\n",
              "    </tr>\n",
              "    <tr>\n",
              "      <th>3529</th>\n",
              "      <td>e5f0e6ef4b</td>\n",
              "      <td>its at 3 am, im very tired but i can`t sleep  ...</td>\n",
              "      <td>negative</td>\n",
              "    </tr>\n",
              "    <tr>\n",
              "      <th>3530</th>\n",
              "      <td>416863ce47</td>\n",
              "      <td>All alone in this old house again.  Thanks for...</td>\n",
              "      <td>positive</td>\n",
              "    </tr>\n",
              "    <tr>\n",
              "      <th>3531</th>\n",
              "      <td>6332da480c</td>\n",
              "      <td>I know what you mean. My little dog is sinkin...</td>\n",
              "      <td>negative</td>\n",
              "    </tr>\n",
              "    <tr>\n",
              "      <th>3532</th>\n",
              "      <td>df1baec676</td>\n",
              "      <td>_sutra what is your next youtube video gonna b...</td>\n",
              "      <td>positive</td>\n",
              "    </tr>\n",
              "    <tr>\n",
              "      <th>3533</th>\n",
              "      <td>469e15c5a8</td>\n",
              "      <td>http://twitpic.com/4woj2 - omgssh  ang cute n...</td>\n",
              "      <td>positive</td>\n",
              "    </tr>\n",
              "  </tbody>\n",
              "</table>\n",
              "<p>3534 rows × 3 columns</p>\n",
              "</div>\n",
              "    <div class=\"colab-df-buttons\">\n",
              "\n",
              "  <div class=\"colab-df-container\">\n",
              "    <button class=\"colab-df-convert\" onclick=\"convertToInteractive('df-bdca1deb-b69e-45b0-a39b-a656f679c86b')\"\n",
              "            title=\"Convert this dataframe to an interactive table.\"\n",
              "            style=\"display:none;\">\n",
              "\n",
              "  <svg xmlns=\"http://www.w3.org/2000/svg\" height=\"24px\" viewBox=\"0 -960 960 960\">\n",
              "    <path d=\"M120-120v-720h720v720H120Zm60-500h600v-160H180v160Zm220 220h160v-160H400v160Zm0 220h160v-160H400v160ZM180-400h160v-160H180v160Zm440 0h160v-160H620v160ZM180-180h160v-160H180v160Zm440 0h160v-160H620v160Z\"/>\n",
              "  </svg>\n",
              "    </button>\n",
              "\n",
              "  <style>\n",
              "    .colab-df-container {\n",
              "      display:flex;\n",
              "      gap: 12px;\n",
              "    }\n",
              "\n",
              "    .colab-df-convert {\n",
              "      background-color: #E8F0FE;\n",
              "      border: none;\n",
              "      border-radius: 50%;\n",
              "      cursor: pointer;\n",
              "      display: none;\n",
              "      fill: #1967D2;\n",
              "      height: 32px;\n",
              "      padding: 0 0 0 0;\n",
              "      width: 32px;\n",
              "    }\n",
              "\n",
              "    .colab-df-convert:hover {\n",
              "      background-color: #E2EBFA;\n",
              "      box-shadow: 0px 1px 2px rgba(60, 64, 67, 0.3), 0px 1px 3px 1px rgba(60, 64, 67, 0.15);\n",
              "      fill: #174EA6;\n",
              "    }\n",
              "\n",
              "    .colab-df-buttons div {\n",
              "      margin-bottom: 4px;\n",
              "    }\n",
              "\n",
              "    [theme=dark] .colab-df-convert {\n",
              "      background-color: #3B4455;\n",
              "      fill: #D2E3FC;\n",
              "    }\n",
              "\n",
              "    [theme=dark] .colab-df-convert:hover {\n",
              "      background-color: #434B5C;\n",
              "      box-shadow: 0px 1px 3px 1px rgba(0, 0, 0, 0.15);\n",
              "      filter: drop-shadow(0px 1px 2px rgba(0, 0, 0, 0.3));\n",
              "      fill: #FFFFFF;\n",
              "    }\n",
              "  </style>\n",
              "\n",
              "    <script>\n",
              "      const buttonEl =\n",
              "        document.querySelector('#df-bdca1deb-b69e-45b0-a39b-a656f679c86b button.colab-df-convert');\n",
              "      buttonEl.style.display =\n",
              "        google.colab.kernel.accessAllowed ? 'block' : 'none';\n",
              "\n",
              "      async function convertToInteractive(key) {\n",
              "        const element = document.querySelector('#df-bdca1deb-b69e-45b0-a39b-a656f679c86b');\n",
              "        const dataTable =\n",
              "          await google.colab.kernel.invokeFunction('convertToInteractive',\n",
              "                                                    [key], {});\n",
              "        if (!dataTable) return;\n",
              "\n",
              "        const docLinkHtml = 'Like what you see? Visit the ' +\n",
              "          '<a target=\"_blank\" href=https://colab.research.google.com/notebooks/data_table.ipynb>data table notebook</a>'\n",
              "          + ' to learn more about interactive tables.';\n",
              "        element.innerHTML = '';\n",
              "        dataTable['output_type'] = 'display_data';\n",
              "        await google.colab.output.renderOutput(dataTable, element);\n",
              "        const docLink = document.createElement('div');\n",
              "        docLink.innerHTML = docLinkHtml;\n",
              "        element.appendChild(docLink);\n",
              "      }\n",
              "    </script>\n",
              "  </div>\n",
              "\n",
              "\n",
              "<div id=\"df-56dc9be2-7417-4d3c-8758-f37ed79ef717\">\n",
              "  <button class=\"colab-df-quickchart\" onclick=\"quickchart('df-56dc9be2-7417-4d3c-8758-f37ed79ef717')\"\n",
              "            title=\"Suggest charts\"\n",
              "            style=\"display:none;\">\n",
              "\n",
              "<svg xmlns=\"http://www.w3.org/2000/svg\" height=\"24px\"viewBox=\"0 0 24 24\"\n",
              "     width=\"24px\">\n",
              "    <g>\n",
              "        <path d=\"M19 3H5c-1.1 0-2 .9-2 2v14c0 1.1.9 2 2 2h14c1.1 0 2-.9 2-2V5c0-1.1-.9-2-2-2zM9 17H7v-7h2v7zm4 0h-2V7h2v10zm4 0h-2v-4h2v4z\"/>\n",
              "    </g>\n",
              "</svg>\n",
              "  </button>\n",
              "\n",
              "<style>\n",
              "  .colab-df-quickchart {\n",
              "      --bg-color: #E8F0FE;\n",
              "      --fill-color: #1967D2;\n",
              "      --hover-bg-color: #E2EBFA;\n",
              "      --hover-fill-color: #174EA6;\n",
              "      --disabled-fill-color: #AAA;\n",
              "      --disabled-bg-color: #DDD;\n",
              "  }\n",
              "\n",
              "  [theme=dark] .colab-df-quickchart {\n",
              "      --bg-color: #3B4455;\n",
              "      --fill-color: #D2E3FC;\n",
              "      --hover-bg-color: #434B5C;\n",
              "      --hover-fill-color: #FFFFFF;\n",
              "      --disabled-bg-color: #3B4455;\n",
              "      --disabled-fill-color: #666;\n",
              "  }\n",
              "\n",
              "  .colab-df-quickchart {\n",
              "    background-color: var(--bg-color);\n",
              "    border: none;\n",
              "    border-radius: 50%;\n",
              "    cursor: pointer;\n",
              "    display: none;\n",
              "    fill: var(--fill-color);\n",
              "    height: 32px;\n",
              "    padding: 0;\n",
              "    width: 32px;\n",
              "  }\n",
              "\n",
              "  .colab-df-quickchart:hover {\n",
              "    background-color: var(--hover-bg-color);\n",
              "    box-shadow: 0 1px 2px rgba(60, 64, 67, 0.3), 0 1px 3px 1px rgba(60, 64, 67, 0.15);\n",
              "    fill: var(--button-hover-fill-color);\n",
              "  }\n",
              "\n",
              "  .colab-df-quickchart-complete:disabled,\n",
              "  .colab-df-quickchart-complete:disabled:hover {\n",
              "    background-color: var(--disabled-bg-color);\n",
              "    fill: var(--disabled-fill-color);\n",
              "    box-shadow: none;\n",
              "  }\n",
              "\n",
              "  .colab-df-spinner {\n",
              "    border: 2px solid var(--fill-color);\n",
              "    border-color: transparent;\n",
              "    border-bottom-color: var(--fill-color);\n",
              "    animation:\n",
              "      spin 1s steps(1) infinite;\n",
              "  }\n",
              "\n",
              "  @keyframes spin {\n",
              "    0% {\n",
              "      border-color: transparent;\n",
              "      border-bottom-color: var(--fill-color);\n",
              "      border-left-color: var(--fill-color);\n",
              "    }\n",
              "    20% {\n",
              "      border-color: transparent;\n",
              "      border-left-color: var(--fill-color);\n",
              "      border-top-color: var(--fill-color);\n",
              "    }\n",
              "    30% {\n",
              "      border-color: transparent;\n",
              "      border-left-color: var(--fill-color);\n",
              "      border-top-color: var(--fill-color);\n",
              "      border-right-color: var(--fill-color);\n",
              "    }\n",
              "    40% {\n",
              "      border-color: transparent;\n",
              "      border-right-color: var(--fill-color);\n",
              "      border-top-color: var(--fill-color);\n",
              "    }\n",
              "    60% {\n",
              "      border-color: transparent;\n",
              "      border-right-color: var(--fill-color);\n",
              "    }\n",
              "    80% {\n",
              "      border-color: transparent;\n",
              "      border-right-color: var(--fill-color);\n",
              "      border-bottom-color: var(--fill-color);\n",
              "    }\n",
              "    90% {\n",
              "      border-color: transparent;\n",
              "      border-bottom-color: var(--fill-color);\n",
              "    }\n",
              "  }\n",
              "</style>\n",
              "\n",
              "  <script>\n",
              "    async function quickchart(key) {\n",
              "      const quickchartButtonEl =\n",
              "        document.querySelector('#' + key + ' button');\n",
              "      quickchartButtonEl.disabled = true;  // To prevent multiple clicks.\n",
              "      quickchartButtonEl.classList.add('colab-df-spinner');\n",
              "      try {\n",
              "        const charts = await google.colab.kernel.invokeFunction(\n",
              "            'suggestCharts', [key], {});\n",
              "      } catch (error) {\n",
              "        console.error('Error during call to suggestCharts:', error);\n",
              "      }\n",
              "      quickchartButtonEl.classList.remove('colab-df-spinner');\n",
              "      quickchartButtonEl.classList.add('colab-df-quickchart-complete');\n",
              "    }\n",
              "    (() => {\n",
              "      let quickchartButtonEl =\n",
              "        document.querySelector('#df-56dc9be2-7417-4d3c-8758-f37ed79ef717 button');\n",
              "      quickchartButtonEl.style.display =\n",
              "        google.colab.kernel.accessAllowed ? 'block' : 'none';\n",
              "    })();\n",
              "  </script>\n",
              "</div>\n",
              "    </div>\n",
              "  </div>\n"
            ],
            "application/vnd.google.colaboratory.intrinsic+json": {
              "type": "dataframe",
              "variable_name": "test_tse_data",
              "summary": "{\n  \"name\": \"test_tse_data\",\n  \"rows\": 3534,\n  \"fields\": [\n    {\n      \"column\": \"textID\",\n      \"properties\": {\n        \"dtype\": \"string\",\n        \"num_unique_values\": 3534,\n        \"samples\": [\n          \"0142108215\",\n          \"fb08563a7b\",\n          \"9a2c6ae21c\"\n        ],\n        \"semantic_type\": \"\",\n        \"description\": \"\"\n      }\n    },\n    {\n      \"column\": \"text\",\n      \"properties\": {\n        \"dtype\": \"string\",\n        \"num_unique_values\": 3534,\n        \"samples\": [\n          \" Thank you so much phaoloo !!!!\",\n          \"Midnight ice-cream weather! So **** bored\",\n          \"Ohh i forgot to tell you last night that when i was a alton towers i touched a shark  it was amazing !!!! it was nt a massive one tho\"\n        ],\n        \"semantic_type\": \"\",\n        \"description\": \"\"\n      }\n    },\n    {\n      \"column\": \"sentiment\",\n      \"properties\": {\n        \"dtype\": \"category\",\n        \"num_unique_values\": 3,\n        \"samples\": [\n          \"neutral\",\n          \"positive\",\n          \"negative\"\n        ],\n        \"semantic_type\": \"\",\n        \"description\": \"\"\n      }\n    }\n  ]\n}"
            }
          },
          "metadata": {},
          "execution_count": 112
        }
      ]
    },
    {
      "cell_type": "code",
      "source": [
        "test_tse_data[\"predicted_sentiment\"]=''"
      ],
      "metadata": {
        "id": "j0m5Mbg9sa24"
      },
      "execution_count": 113,
      "outputs": []
    },
    {
      "cell_type": "code",
      "source": [
        "test_tse_data"
      ],
      "metadata": {
        "colab": {
          "base_uri": "https://localhost:8080/",
          "height": 423
        },
        "id": "L1z6E2lds3P-",
        "outputId": "1a9b276f-2ceb-400e-ed58-7fa259b252a9"
      },
      "execution_count": 16,
      "outputs": [
        {
          "output_type": "execute_result",
          "data": {
            "text/plain": [
              "          textID                                               text sentiment  \\\n",
              "0     f87dea47db  Last session of the day  http://twitpic.com/67ezh   neutral   \n",
              "1     96d74cb729   Shanghai is also really exciting (precisely -...  positive   \n",
              "2     eee518ae67  Recession hit Veronique Branquinho, she has to...  negative   \n",
              "3     01082688c6                                        happy bday!  positive   \n",
              "4     33987a8ee5             http://twitpic.com/4w75p - I like it!!  positive   \n",
              "...          ...                                                ...       ...   \n",
              "3529  e5f0e6ef4b  its at 3 am, im very tired but i can`t sleep  ...  negative   \n",
              "3530  416863ce47  All alone in this old house again.  Thanks for...  positive   \n",
              "3531  6332da480c   I know what you mean. My little dog is sinkin...  negative   \n",
              "3532  df1baec676  _sutra what is your next youtube video gonna b...  positive   \n",
              "3533  469e15c5a8   http://twitpic.com/4woj2 - omgssh  ang cute n...  positive   \n",
              "\n",
              "     predicted_sentiment  \n",
              "0                         \n",
              "1                         \n",
              "2                         \n",
              "3                         \n",
              "4                         \n",
              "...                  ...  \n",
              "3529                      \n",
              "3530                      \n",
              "3531                      \n",
              "3532                      \n",
              "3533                      \n",
              "\n",
              "[3534 rows x 4 columns]"
            ],
            "text/html": [
              "\n",
              "  <div id=\"df-6aad66b5-3c16-4b78-8bbe-a2767d81b01b\" class=\"colab-df-container\">\n",
              "    <div>\n",
              "<style scoped>\n",
              "    .dataframe tbody tr th:only-of-type {\n",
              "        vertical-align: middle;\n",
              "    }\n",
              "\n",
              "    .dataframe tbody tr th {\n",
              "        vertical-align: top;\n",
              "    }\n",
              "\n",
              "    .dataframe thead th {\n",
              "        text-align: right;\n",
              "    }\n",
              "</style>\n",
              "<table border=\"1\" class=\"dataframe\">\n",
              "  <thead>\n",
              "    <tr style=\"text-align: right;\">\n",
              "      <th></th>\n",
              "      <th>textID</th>\n",
              "      <th>text</th>\n",
              "      <th>sentiment</th>\n",
              "      <th>predicted_sentiment</th>\n",
              "    </tr>\n",
              "  </thead>\n",
              "  <tbody>\n",
              "    <tr>\n",
              "      <th>0</th>\n",
              "      <td>f87dea47db</td>\n",
              "      <td>Last session of the day  http://twitpic.com/67ezh</td>\n",
              "      <td>neutral</td>\n",
              "      <td></td>\n",
              "    </tr>\n",
              "    <tr>\n",
              "      <th>1</th>\n",
              "      <td>96d74cb729</td>\n",
              "      <td>Shanghai is also really exciting (precisely -...</td>\n",
              "      <td>positive</td>\n",
              "      <td></td>\n",
              "    </tr>\n",
              "    <tr>\n",
              "      <th>2</th>\n",
              "      <td>eee518ae67</td>\n",
              "      <td>Recession hit Veronique Branquinho, she has to...</td>\n",
              "      <td>negative</td>\n",
              "      <td></td>\n",
              "    </tr>\n",
              "    <tr>\n",
              "      <th>3</th>\n",
              "      <td>01082688c6</td>\n",
              "      <td>happy bday!</td>\n",
              "      <td>positive</td>\n",
              "      <td></td>\n",
              "    </tr>\n",
              "    <tr>\n",
              "      <th>4</th>\n",
              "      <td>33987a8ee5</td>\n",
              "      <td>http://twitpic.com/4w75p - I like it!!</td>\n",
              "      <td>positive</td>\n",
              "      <td></td>\n",
              "    </tr>\n",
              "    <tr>\n",
              "      <th>...</th>\n",
              "      <td>...</td>\n",
              "      <td>...</td>\n",
              "      <td>...</td>\n",
              "      <td>...</td>\n",
              "    </tr>\n",
              "    <tr>\n",
              "      <th>3529</th>\n",
              "      <td>e5f0e6ef4b</td>\n",
              "      <td>its at 3 am, im very tired but i can`t sleep  ...</td>\n",
              "      <td>negative</td>\n",
              "      <td></td>\n",
              "    </tr>\n",
              "    <tr>\n",
              "      <th>3530</th>\n",
              "      <td>416863ce47</td>\n",
              "      <td>All alone in this old house again.  Thanks for...</td>\n",
              "      <td>positive</td>\n",
              "      <td></td>\n",
              "    </tr>\n",
              "    <tr>\n",
              "      <th>3531</th>\n",
              "      <td>6332da480c</td>\n",
              "      <td>I know what you mean. My little dog is sinkin...</td>\n",
              "      <td>negative</td>\n",
              "      <td></td>\n",
              "    </tr>\n",
              "    <tr>\n",
              "      <th>3532</th>\n",
              "      <td>df1baec676</td>\n",
              "      <td>_sutra what is your next youtube video gonna b...</td>\n",
              "      <td>positive</td>\n",
              "      <td></td>\n",
              "    </tr>\n",
              "    <tr>\n",
              "      <th>3533</th>\n",
              "      <td>469e15c5a8</td>\n",
              "      <td>http://twitpic.com/4woj2 - omgssh  ang cute n...</td>\n",
              "      <td>positive</td>\n",
              "      <td></td>\n",
              "    </tr>\n",
              "  </tbody>\n",
              "</table>\n",
              "<p>3534 rows × 4 columns</p>\n",
              "</div>\n",
              "    <div class=\"colab-df-buttons\">\n",
              "\n",
              "  <div class=\"colab-df-container\">\n",
              "    <button class=\"colab-df-convert\" onclick=\"convertToInteractive('df-6aad66b5-3c16-4b78-8bbe-a2767d81b01b')\"\n",
              "            title=\"Convert this dataframe to an interactive table.\"\n",
              "            style=\"display:none;\">\n",
              "\n",
              "  <svg xmlns=\"http://www.w3.org/2000/svg\" height=\"24px\" viewBox=\"0 -960 960 960\">\n",
              "    <path d=\"M120-120v-720h720v720H120Zm60-500h600v-160H180v160Zm220 220h160v-160H400v160Zm0 220h160v-160H400v160ZM180-400h160v-160H180v160Zm440 0h160v-160H620v160ZM180-180h160v-160H180v160Zm440 0h160v-160H620v160Z\"/>\n",
              "  </svg>\n",
              "    </button>\n",
              "\n",
              "  <style>\n",
              "    .colab-df-container {\n",
              "      display:flex;\n",
              "      gap: 12px;\n",
              "    }\n",
              "\n",
              "    .colab-df-convert {\n",
              "      background-color: #E8F0FE;\n",
              "      border: none;\n",
              "      border-radius: 50%;\n",
              "      cursor: pointer;\n",
              "      display: none;\n",
              "      fill: #1967D2;\n",
              "      height: 32px;\n",
              "      padding: 0 0 0 0;\n",
              "      width: 32px;\n",
              "    }\n",
              "\n",
              "    .colab-df-convert:hover {\n",
              "      background-color: #E2EBFA;\n",
              "      box-shadow: 0px 1px 2px rgba(60, 64, 67, 0.3), 0px 1px 3px 1px rgba(60, 64, 67, 0.15);\n",
              "      fill: #174EA6;\n",
              "    }\n",
              "\n",
              "    .colab-df-buttons div {\n",
              "      margin-bottom: 4px;\n",
              "    }\n",
              "\n",
              "    [theme=dark] .colab-df-convert {\n",
              "      background-color: #3B4455;\n",
              "      fill: #D2E3FC;\n",
              "    }\n",
              "\n",
              "    [theme=dark] .colab-df-convert:hover {\n",
              "      background-color: #434B5C;\n",
              "      box-shadow: 0px 1px 3px 1px rgba(0, 0, 0, 0.15);\n",
              "      filter: drop-shadow(0px 1px 2px rgba(0, 0, 0, 0.3));\n",
              "      fill: #FFFFFF;\n",
              "    }\n",
              "  </style>\n",
              "\n",
              "    <script>\n",
              "      const buttonEl =\n",
              "        document.querySelector('#df-6aad66b5-3c16-4b78-8bbe-a2767d81b01b button.colab-df-convert');\n",
              "      buttonEl.style.display =\n",
              "        google.colab.kernel.accessAllowed ? 'block' : 'none';\n",
              "\n",
              "      async function convertToInteractive(key) {\n",
              "        const element = document.querySelector('#df-6aad66b5-3c16-4b78-8bbe-a2767d81b01b');\n",
              "        const dataTable =\n",
              "          await google.colab.kernel.invokeFunction('convertToInteractive',\n",
              "                                                    [key], {});\n",
              "        if (!dataTable) return;\n",
              "\n",
              "        const docLinkHtml = 'Like what you see? Visit the ' +\n",
              "          '<a target=\"_blank\" href=https://colab.research.google.com/notebooks/data_table.ipynb>data table notebook</a>'\n",
              "          + ' to learn more about interactive tables.';\n",
              "        element.innerHTML = '';\n",
              "        dataTable['output_type'] = 'display_data';\n",
              "        await google.colab.output.renderOutput(dataTable, element);\n",
              "        const docLink = document.createElement('div');\n",
              "        docLink.innerHTML = docLinkHtml;\n",
              "        element.appendChild(docLink);\n",
              "      }\n",
              "    </script>\n",
              "  </div>\n",
              "\n",
              "\n",
              "<div id=\"df-53abe137-943c-4958-ba06-74d8074fbfae\">\n",
              "  <button class=\"colab-df-quickchart\" onclick=\"quickchart('df-53abe137-943c-4958-ba06-74d8074fbfae')\"\n",
              "            title=\"Suggest charts\"\n",
              "            style=\"display:none;\">\n",
              "\n",
              "<svg xmlns=\"http://www.w3.org/2000/svg\" height=\"24px\"viewBox=\"0 0 24 24\"\n",
              "     width=\"24px\">\n",
              "    <g>\n",
              "        <path d=\"M19 3H5c-1.1 0-2 .9-2 2v14c0 1.1.9 2 2 2h14c1.1 0 2-.9 2-2V5c0-1.1-.9-2-2-2zM9 17H7v-7h2v7zm4 0h-2V7h2v10zm4 0h-2v-4h2v4z\"/>\n",
              "    </g>\n",
              "</svg>\n",
              "  </button>\n",
              "\n",
              "<style>\n",
              "  .colab-df-quickchart {\n",
              "      --bg-color: #E8F0FE;\n",
              "      --fill-color: #1967D2;\n",
              "      --hover-bg-color: #E2EBFA;\n",
              "      --hover-fill-color: #174EA6;\n",
              "      --disabled-fill-color: #AAA;\n",
              "      --disabled-bg-color: #DDD;\n",
              "  }\n",
              "\n",
              "  [theme=dark] .colab-df-quickchart {\n",
              "      --bg-color: #3B4455;\n",
              "      --fill-color: #D2E3FC;\n",
              "      --hover-bg-color: #434B5C;\n",
              "      --hover-fill-color: #FFFFFF;\n",
              "      --disabled-bg-color: #3B4455;\n",
              "      --disabled-fill-color: #666;\n",
              "  }\n",
              "\n",
              "  .colab-df-quickchart {\n",
              "    background-color: var(--bg-color);\n",
              "    border: none;\n",
              "    border-radius: 50%;\n",
              "    cursor: pointer;\n",
              "    display: none;\n",
              "    fill: var(--fill-color);\n",
              "    height: 32px;\n",
              "    padding: 0;\n",
              "    width: 32px;\n",
              "  }\n",
              "\n",
              "  .colab-df-quickchart:hover {\n",
              "    background-color: var(--hover-bg-color);\n",
              "    box-shadow: 0 1px 2px rgba(60, 64, 67, 0.3), 0 1px 3px 1px rgba(60, 64, 67, 0.15);\n",
              "    fill: var(--button-hover-fill-color);\n",
              "  }\n",
              "\n",
              "  .colab-df-quickchart-complete:disabled,\n",
              "  .colab-df-quickchart-complete:disabled:hover {\n",
              "    background-color: var(--disabled-bg-color);\n",
              "    fill: var(--disabled-fill-color);\n",
              "    box-shadow: none;\n",
              "  }\n",
              "\n",
              "  .colab-df-spinner {\n",
              "    border: 2px solid var(--fill-color);\n",
              "    border-color: transparent;\n",
              "    border-bottom-color: var(--fill-color);\n",
              "    animation:\n",
              "      spin 1s steps(1) infinite;\n",
              "  }\n",
              "\n",
              "  @keyframes spin {\n",
              "    0% {\n",
              "      border-color: transparent;\n",
              "      border-bottom-color: var(--fill-color);\n",
              "      border-left-color: var(--fill-color);\n",
              "    }\n",
              "    20% {\n",
              "      border-color: transparent;\n",
              "      border-left-color: var(--fill-color);\n",
              "      border-top-color: var(--fill-color);\n",
              "    }\n",
              "    30% {\n",
              "      border-color: transparent;\n",
              "      border-left-color: var(--fill-color);\n",
              "      border-top-color: var(--fill-color);\n",
              "      border-right-color: var(--fill-color);\n",
              "    }\n",
              "    40% {\n",
              "      border-color: transparent;\n",
              "      border-right-color: var(--fill-color);\n",
              "      border-top-color: var(--fill-color);\n",
              "    }\n",
              "    60% {\n",
              "      border-color: transparent;\n",
              "      border-right-color: var(--fill-color);\n",
              "    }\n",
              "    80% {\n",
              "      border-color: transparent;\n",
              "      border-right-color: var(--fill-color);\n",
              "      border-bottom-color: var(--fill-color);\n",
              "    }\n",
              "    90% {\n",
              "      border-color: transparent;\n",
              "      border-bottom-color: var(--fill-color);\n",
              "    }\n",
              "  }\n",
              "</style>\n",
              "\n",
              "  <script>\n",
              "    async function quickchart(key) {\n",
              "      const quickchartButtonEl =\n",
              "        document.querySelector('#' + key + ' button');\n",
              "      quickchartButtonEl.disabled = true;  // To prevent multiple clicks.\n",
              "      quickchartButtonEl.classList.add('colab-df-spinner');\n",
              "      try {\n",
              "        const charts = await google.colab.kernel.invokeFunction(\n",
              "            'suggestCharts', [key], {});\n",
              "      } catch (error) {\n",
              "        console.error('Error during call to suggestCharts:', error);\n",
              "      }\n",
              "      quickchartButtonEl.classList.remove('colab-df-spinner');\n",
              "      quickchartButtonEl.classList.add('colab-df-quickchart-complete');\n",
              "    }\n",
              "    (() => {\n",
              "      let quickchartButtonEl =\n",
              "        document.querySelector('#df-53abe137-943c-4958-ba06-74d8074fbfae button');\n",
              "      quickchartButtonEl.style.display =\n",
              "        google.colab.kernel.accessAllowed ? 'block' : 'none';\n",
              "    })();\n",
              "  </script>\n",
              "</div>\n",
              "    </div>\n",
              "  </div>\n"
            ],
            "application/vnd.google.colaboratory.intrinsic+json": {
              "type": "dataframe",
              "variable_name": "test_tse_data",
              "summary": "{\n  \"name\": \"test_tse_data\",\n  \"rows\": 3534,\n  \"fields\": [\n    {\n      \"column\": \"textID\",\n      \"properties\": {\n        \"dtype\": \"string\",\n        \"num_unique_values\": 3534,\n        \"samples\": [\n          \"0142108215\",\n          \"fb08563a7b\",\n          \"9a2c6ae21c\"\n        ],\n        \"semantic_type\": \"\",\n        \"description\": \"\"\n      }\n    },\n    {\n      \"column\": \"text\",\n      \"properties\": {\n        \"dtype\": \"string\",\n        \"num_unique_values\": 3534,\n        \"samples\": [\n          \" Thank you so much phaoloo !!!!\",\n          \"Midnight ice-cream weather! So **** bored\",\n          \"Ohh i forgot to tell you last night that when i was a alton towers i touched a shark  it was amazing !!!! it was nt a massive one tho\"\n        ],\n        \"semantic_type\": \"\",\n        \"description\": \"\"\n      }\n    },\n    {\n      \"column\": \"sentiment\",\n      \"properties\": {\n        \"dtype\": \"category\",\n        \"num_unique_values\": 3,\n        \"samples\": [\n          \"neutral\",\n          \"positive\",\n          \"negative\"\n        ],\n        \"semantic_type\": \"\",\n        \"description\": \"\"\n      }\n    },\n    {\n      \"column\": \"predicted_sentiment\",\n      \"properties\": {\n        \"dtype\": \"object\",\n        \"num_unique_values\": 1,\n        \"samples\": [\n          \"\"\n        ],\n        \"semantic_type\": \"\",\n        \"description\": \"\"\n      }\n    }\n  ]\n}"
            }
          },
          "metadata": {},
          "execution_count": 16
        }
      ]
    },
    {
      "cell_type": "code",
      "source": [
        "test_tse_data.shape"
      ],
      "metadata": {
        "colab": {
          "base_uri": "https://localhost:8080/"
        },
        "id": "ZCGXR3cvs8Lj",
        "outputId": "5ae5c6c2-a978-4855-d868-895c72b2da42"
      },
      "execution_count": 17,
      "outputs": [
        {
          "output_type": "execute_result",
          "data": {
            "text/plain": [
              "(3534, 4)"
            ]
          },
          "metadata": {},
          "execution_count": 17
        }
      ]
    },
    {
      "cell_type": "code",
      "source": [
        "nlp = spacy.load('en_core_web_sm')\n",
        "nlp.add_pipe(\"merge_noun_chunks\")\n",
        "for i in range(test_tse_data.shape[0]):\n",
        "  if i%200==0:\n",
        "    print(i)\n",
        "  text_to_check=test_tse_data['text'][i]\n",
        "  test_tse_data['predicted_sentiment'][i]=graph_sentiment_analysis(text_to_check, calculate_overall_score=1, nlp=nlp)"
      ],
      "metadata": {
        "colab": {
          "base_uri": "https://localhost:8080/"
        },
        "id": "xBzGx2yctPIb",
        "outputId": "a3f5a0d4-4afe-4f8d-89d5-55bf761f8906"
      },
      "execution_count": 114,
      "outputs": [
        {
          "output_type": "stream",
          "name": "stdout",
          "text": [
            "0\n",
            "200\n",
            "400\n",
            "600\n",
            "800\n",
            "1000\n",
            "1200\n",
            "1400\n",
            "1600\n",
            "1800\n",
            "2000\n",
            "2200\n",
            "2400\n",
            "2600\n",
            "2800\n",
            "3000\n",
            "3200\n",
            "3400\n"
          ]
        }
      ]
    },
    {
      "cell_type": "code",
      "source": [
        "test_tse_data"
      ],
      "metadata": {
        "colab": {
          "base_uri": "https://localhost:8080/",
          "height": 423
        },
        "id": "m8nhO1WttnTl",
        "outputId": "b48da00e-53cb-406f-8649-70d3e6ff5c12"
      },
      "execution_count": 115,
      "outputs": [
        {
          "output_type": "execute_result",
          "data": {
            "text/plain": [
              "          textID                                               text sentiment  \\\n",
              "0     f87dea47db  Last session of the day  http://twitpic.com/67ezh   neutral   \n",
              "1     96d74cb729   Shanghai is also really exciting (precisely -...  positive   \n",
              "2     eee518ae67  Recession hit Veronique Branquinho, she has to...  negative   \n",
              "3     01082688c6                                        happy bday!  positive   \n",
              "4     33987a8ee5             http://twitpic.com/4w75p - I like it!!  positive   \n",
              "...          ...                                                ...       ...   \n",
              "3529  e5f0e6ef4b  its at 3 am, im very tired but i can`t sleep  ...  negative   \n",
              "3530  416863ce47  All alone in this old house again.  Thanks for...  positive   \n",
              "3531  6332da480c   I know what you mean. My little dog is sinkin...  negative   \n",
              "3532  df1baec676  _sutra what is your next youtube video gonna b...  positive   \n",
              "3533  469e15c5a8   http://twitpic.com/4woj2 - omgssh  ang cute n...  positive   \n",
              "\n",
              "     predicted_sentiment  \n",
              "0                neutral  \n",
              "1               positive  \n",
              "2               negative  \n",
              "3                neutral  \n",
              "4               positive  \n",
              "...                  ...  \n",
              "3529            negative  \n",
              "3530            positive  \n",
              "3531            negative  \n",
              "3532            positive  \n",
              "3533            positive  \n",
              "\n",
              "[3534 rows x 4 columns]"
            ],
            "text/html": [
              "\n",
              "  <div id=\"df-bf28655c-04a3-4ce3-ad62-2384187173d9\" class=\"colab-df-container\">\n",
              "    <div>\n",
              "<style scoped>\n",
              "    .dataframe tbody tr th:only-of-type {\n",
              "        vertical-align: middle;\n",
              "    }\n",
              "\n",
              "    .dataframe tbody tr th {\n",
              "        vertical-align: top;\n",
              "    }\n",
              "\n",
              "    .dataframe thead th {\n",
              "        text-align: right;\n",
              "    }\n",
              "</style>\n",
              "<table border=\"1\" class=\"dataframe\">\n",
              "  <thead>\n",
              "    <tr style=\"text-align: right;\">\n",
              "      <th></th>\n",
              "      <th>textID</th>\n",
              "      <th>text</th>\n",
              "      <th>sentiment</th>\n",
              "      <th>predicted_sentiment</th>\n",
              "    </tr>\n",
              "  </thead>\n",
              "  <tbody>\n",
              "    <tr>\n",
              "      <th>0</th>\n",
              "      <td>f87dea47db</td>\n",
              "      <td>Last session of the day  http://twitpic.com/67ezh</td>\n",
              "      <td>neutral</td>\n",
              "      <td>neutral</td>\n",
              "    </tr>\n",
              "    <tr>\n",
              "      <th>1</th>\n",
              "      <td>96d74cb729</td>\n",
              "      <td>Shanghai is also really exciting (precisely -...</td>\n",
              "      <td>positive</td>\n",
              "      <td>positive</td>\n",
              "    </tr>\n",
              "    <tr>\n",
              "      <th>2</th>\n",
              "      <td>eee518ae67</td>\n",
              "      <td>Recession hit Veronique Branquinho, she has to...</td>\n",
              "      <td>negative</td>\n",
              "      <td>negative</td>\n",
              "    </tr>\n",
              "    <tr>\n",
              "      <th>3</th>\n",
              "      <td>01082688c6</td>\n",
              "      <td>happy bday!</td>\n",
              "      <td>positive</td>\n",
              "      <td>neutral</td>\n",
              "    </tr>\n",
              "    <tr>\n",
              "      <th>4</th>\n",
              "      <td>33987a8ee5</td>\n",
              "      <td>http://twitpic.com/4w75p - I like it!!</td>\n",
              "      <td>positive</td>\n",
              "      <td>positive</td>\n",
              "    </tr>\n",
              "    <tr>\n",
              "      <th>...</th>\n",
              "      <td>...</td>\n",
              "      <td>...</td>\n",
              "      <td>...</td>\n",
              "      <td>...</td>\n",
              "    </tr>\n",
              "    <tr>\n",
              "      <th>3529</th>\n",
              "      <td>e5f0e6ef4b</td>\n",
              "      <td>its at 3 am, im very tired but i can`t sleep  ...</td>\n",
              "      <td>negative</td>\n",
              "      <td>negative</td>\n",
              "    </tr>\n",
              "    <tr>\n",
              "      <th>3530</th>\n",
              "      <td>416863ce47</td>\n",
              "      <td>All alone in this old house again.  Thanks for...</td>\n",
              "      <td>positive</td>\n",
              "      <td>positive</td>\n",
              "    </tr>\n",
              "    <tr>\n",
              "      <th>3531</th>\n",
              "      <td>6332da480c</td>\n",
              "      <td>I know what you mean. My little dog is sinkin...</td>\n",
              "      <td>negative</td>\n",
              "      <td>negative</td>\n",
              "    </tr>\n",
              "    <tr>\n",
              "      <th>3532</th>\n",
              "      <td>df1baec676</td>\n",
              "      <td>_sutra what is your next youtube video gonna b...</td>\n",
              "      <td>positive</td>\n",
              "      <td>positive</td>\n",
              "    </tr>\n",
              "    <tr>\n",
              "      <th>3533</th>\n",
              "      <td>469e15c5a8</td>\n",
              "      <td>http://twitpic.com/4woj2 - omgssh  ang cute n...</td>\n",
              "      <td>positive</td>\n",
              "      <td>positive</td>\n",
              "    </tr>\n",
              "  </tbody>\n",
              "</table>\n",
              "<p>3534 rows × 4 columns</p>\n",
              "</div>\n",
              "    <div class=\"colab-df-buttons\">\n",
              "\n",
              "  <div class=\"colab-df-container\">\n",
              "    <button class=\"colab-df-convert\" onclick=\"convertToInteractive('df-bf28655c-04a3-4ce3-ad62-2384187173d9')\"\n",
              "            title=\"Convert this dataframe to an interactive table.\"\n",
              "            style=\"display:none;\">\n",
              "\n",
              "  <svg xmlns=\"http://www.w3.org/2000/svg\" height=\"24px\" viewBox=\"0 -960 960 960\">\n",
              "    <path d=\"M120-120v-720h720v720H120Zm60-500h600v-160H180v160Zm220 220h160v-160H400v160Zm0 220h160v-160H400v160ZM180-400h160v-160H180v160Zm440 0h160v-160H620v160ZM180-180h160v-160H180v160Zm440 0h160v-160H620v160Z\"/>\n",
              "  </svg>\n",
              "    </button>\n",
              "\n",
              "  <style>\n",
              "    .colab-df-container {\n",
              "      display:flex;\n",
              "      gap: 12px;\n",
              "    }\n",
              "\n",
              "    .colab-df-convert {\n",
              "      background-color: #E8F0FE;\n",
              "      border: none;\n",
              "      border-radius: 50%;\n",
              "      cursor: pointer;\n",
              "      display: none;\n",
              "      fill: #1967D2;\n",
              "      height: 32px;\n",
              "      padding: 0 0 0 0;\n",
              "      width: 32px;\n",
              "    }\n",
              "\n",
              "    .colab-df-convert:hover {\n",
              "      background-color: #E2EBFA;\n",
              "      box-shadow: 0px 1px 2px rgba(60, 64, 67, 0.3), 0px 1px 3px 1px rgba(60, 64, 67, 0.15);\n",
              "      fill: #174EA6;\n",
              "    }\n",
              "\n",
              "    .colab-df-buttons div {\n",
              "      margin-bottom: 4px;\n",
              "    }\n",
              "\n",
              "    [theme=dark] .colab-df-convert {\n",
              "      background-color: #3B4455;\n",
              "      fill: #D2E3FC;\n",
              "    }\n",
              "\n",
              "    [theme=dark] .colab-df-convert:hover {\n",
              "      background-color: #434B5C;\n",
              "      box-shadow: 0px 1px 3px 1px rgba(0, 0, 0, 0.15);\n",
              "      filter: drop-shadow(0px 1px 2px rgba(0, 0, 0, 0.3));\n",
              "      fill: #FFFFFF;\n",
              "    }\n",
              "  </style>\n",
              "\n",
              "    <script>\n",
              "      const buttonEl =\n",
              "        document.querySelector('#df-bf28655c-04a3-4ce3-ad62-2384187173d9 button.colab-df-convert');\n",
              "      buttonEl.style.display =\n",
              "        google.colab.kernel.accessAllowed ? 'block' : 'none';\n",
              "\n",
              "      async function convertToInteractive(key) {\n",
              "        const element = document.querySelector('#df-bf28655c-04a3-4ce3-ad62-2384187173d9');\n",
              "        const dataTable =\n",
              "          await google.colab.kernel.invokeFunction('convertToInteractive',\n",
              "                                                    [key], {});\n",
              "        if (!dataTable) return;\n",
              "\n",
              "        const docLinkHtml = 'Like what you see? Visit the ' +\n",
              "          '<a target=\"_blank\" href=https://colab.research.google.com/notebooks/data_table.ipynb>data table notebook</a>'\n",
              "          + ' to learn more about interactive tables.';\n",
              "        element.innerHTML = '';\n",
              "        dataTable['output_type'] = 'display_data';\n",
              "        await google.colab.output.renderOutput(dataTable, element);\n",
              "        const docLink = document.createElement('div');\n",
              "        docLink.innerHTML = docLinkHtml;\n",
              "        element.appendChild(docLink);\n",
              "      }\n",
              "    </script>\n",
              "  </div>\n",
              "\n",
              "\n",
              "<div id=\"df-ef9bce85-f47f-4d6c-b00c-0af3b3b8df11\">\n",
              "  <button class=\"colab-df-quickchart\" onclick=\"quickchart('df-ef9bce85-f47f-4d6c-b00c-0af3b3b8df11')\"\n",
              "            title=\"Suggest charts\"\n",
              "            style=\"display:none;\">\n",
              "\n",
              "<svg xmlns=\"http://www.w3.org/2000/svg\" height=\"24px\"viewBox=\"0 0 24 24\"\n",
              "     width=\"24px\">\n",
              "    <g>\n",
              "        <path d=\"M19 3H5c-1.1 0-2 .9-2 2v14c0 1.1.9 2 2 2h14c1.1 0 2-.9 2-2V5c0-1.1-.9-2-2-2zM9 17H7v-7h2v7zm4 0h-2V7h2v10zm4 0h-2v-4h2v4z\"/>\n",
              "    </g>\n",
              "</svg>\n",
              "  </button>\n",
              "\n",
              "<style>\n",
              "  .colab-df-quickchart {\n",
              "      --bg-color: #E8F0FE;\n",
              "      --fill-color: #1967D2;\n",
              "      --hover-bg-color: #E2EBFA;\n",
              "      --hover-fill-color: #174EA6;\n",
              "      --disabled-fill-color: #AAA;\n",
              "      --disabled-bg-color: #DDD;\n",
              "  }\n",
              "\n",
              "  [theme=dark] .colab-df-quickchart {\n",
              "      --bg-color: #3B4455;\n",
              "      --fill-color: #D2E3FC;\n",
              "      --hover-bg-color: #434B5C;\n",
              "      --hover-fill-color: #FFFFFF;\n",
              "      --disabled-bg-color: #3B4455;\n",
              "      --disabled-fill-color: #666;\n",
              "  }\n",
              "\n",
              "  .colab-df-quickchart {\n",
              "    background-color: var(--bg-color);\n",
              "    border: none;\n",
              "    border-radius: 50%;\n",
              "    cursor: pointer;\n",
              "    display: none;\n",
              "    fill: var(--fill-color);\n",
              "    height: 32px;\n",
              "    padding: 0;\n",
              "    width: 32px;\n",
              "  }\n",
              "\n",
              "  .colab-df-quickchart:hover {\n",
              "    background-color: var(--hover-bg-color);\n",
              "    box-shadow: 0 1px 2px rgba(60, 64, 67, 0.3), 0 1px 3px 1px rgba(60, 64, 67, 0.15);\n",
              "    fill: var(--button-hover-fill-color);\n",
              "  }\n",
              "\n",
              "  .colab-df-quickchart-complete:disabled,\n",
              "  .colab-df-quickchart-complete:disabled:hover {\n",
              "    background-color: var(--disabled-bg-color);\n",
              "    fill: var(--disabled-fill-color);\n",
              "    box-shadow: none;\n",
              "  }\n",
              "\n",
              "  .colab-df-spinner {\n",
              "    border: 2px solid var(--fill-color);\n",
              "    border-color: transparent;\n",
              "    border-bottom-color: var(--fill-color);\n",
              "    animation:\n",
              "      spin 1s steps(1) infinite;\n",
              "  }\n",
              "\n",
              "  @keyframes spin {\n",
              "    0% {\n",
              "      border-color: transparent;\n",
              "      border-bottom-color: var(--fill-color);\n",
              "      border-left-color: var(--fill-color);\n",
              "    }\n",
              "    20% {\n",
              "      border-color: transparent;\n",
              "      border-left-color: var(--fill-color);\n",
              "      border-top-color: var(--fill-color);\n",
              "    }\n",
              "    30% {\n",
              "      border-color: transparent;\n",
              "      border-left-color: var(--fill-color);\n",
              "      border-top-color: var(--fill-color);\n",
              "      border-right-color: var(--fill-color);\n",
              "    }\n",
              "    40% {\n",
              "      border-color: transparent;\n",
              "      border-right-color: var(--fill-color);\n",
              "      border-top-color: var(--fill-color);\n",
              "    }\n",
              "    60% {\n",
              "      border-color: transparent;\n",
              "      border-right-color: var(--fill-color);\n",
              "    }\n",
              "    80% {\n",
              "      border-color: transparent;\n",
              "      border-right-color: var(--fill-color);\n",
              "      border-bottom-color: var(--fill-color);\n",
              "    }\n",
              "    90% {\n",
              "      border-color: transparent;\n",
              "      border-bottom-color: var(--fill-color);\n",
              "    }\n",
              "  }\n",
              "</style>\n",
              "\n",
              "  <script>\n",
              "    async function quickchart(key) {\n",
              "      const quickchartButtonEl =\n",
              "        document.querySelector('#' + key + ' button');\n",
              "      quickchartButtonEl.disabled = true;  // To prevent multiple clicks.\n",
              "      quickchartButtonEl.classList.add('colab-df-spinner');\n",
              "      try {\n",
              "        const charts = await google.colab.kernel.invokeFunction(\n",
              "            'suggestCharts', [key], {});\n",
              "      } catch (error) {\n",
              "        console.error('Error during call to suggestCharts:', error);\n",
              "      }\n",
              "      quickchartButtonEl.classList.remove('colab-df-spinner');\n",
              "      quickchartButtonEl.classList.add('colab-df-quickchart-complete');\n",
              "    }\n",
              "    (() => {\n",
              "      let quickchartButtonEl =\n",
              "        document.querySelector('#df-ef9bce85-f47f-4d6c-b00c-0af3b3b8df11 button');\n",
              "      quickchartButtonEl.style.display =\n",
              "        google.colab.kernel.accessAllowed ? 'block' : 'none';\n",
              "    })();\n",
              "  </script>\n",
              "</div>\n",
              "    </div>\n",
              "  </div>\n"
            ],
            "application/vnd.google.colaboratory.intrinsic+json": {
              "type": "dataframe",
              "variable_name": "test_tse_data",
              "summary": "{\n  \"name\": \"test_tse_data\",\n  \"rows\": 3534,\n  \"fields\": [\n    {\n      \"column\": \"textID\",\n      \"properties\": {\n        \"dtype\": \"string\",\n        \"num_unique_values\": 3534,\n        \"samples\": [\n          \"0142108215\",\n          \"fb08563a7b\",\n          \"9a2c6ae21c\"\n        ],\n        \"semantic_type\": \"\",\n        \"description\": \"\"\n      }\n    },\n    {\n      \"column\": \"text\",\n      \"properties\": {\n        \"dtype\": \"string\",\n        \"num_unique_values\": 3534,\n        \"samples\": [\n          \" Thank you so much phaoloo !!!!\",\n          \"Midnight ice-cream weather! So **** bored\",\n          \"Ohh i forgot to tell you last night that when i was a alton towers i touched a shark  it was amazing !!!! it was nt a massive one tho\"\n        ],\n        \"semantic_type\": \"\",\n        \"description\": \"\"\n      }\n    },\n    {\n      \"column\": \"sentiment\",\n      \"properties\": {\n        \"dtype\": \"category\",\n        \"num_unique_values\": 3,\n        \"samples\": [\n          \"neutral\",\n          \"positive\",\n          \"negative\"\n        ],\n        \"semantic_type\": \"\",\n        \"description\": \"\"\n      }\n    },\n    {\n      \"column\": \"predicted_sentiment\",\n      \"properties\": {\n        \"dtype\": \"category\",\n        \"num_unique_values\": 3,\n        \"samples\": [\n          \"neutral\",\n          \"positive\",\n          \"negative\"\n        ],\n        \"semantic_type\": \"\",\n        \"description\": \"\"\n      }\n    }\n  ]\n}"
            }
          },
          "metadata": {},
          "execution_count": 115
        }
      ]
    },
    {
      "cell_type": "code",
      "source": [
        "accuracy=np.sum(test_tse_data['sentiment']==test_tse_data['predicted_sentiment'])/test_tse_data.shape[0]"
      ],
      "metadata": {
        "id": "aTkG7vYnyCan"
      },
      "execution_count": 77,
      "outputs": []
    },
    {
      "cell_type": "code",
      "source": [
        "from sklearn.metrics import balanced_accuracy_score"
      ],
      "metadata": {
        "id": "TJkxweX_0zzF"
      },
      "execution_count": 81,
      "outputs": []
    },
    {
      "cell_type": "code",
      "source": [
        "ba_tse=balanced_accuracy_score(test_tse_data['sentiment'], test_tse_data['predicted_sentiment'])"
      ],
      "metadata": {
        "id": "NFHviYT-03Y8"
      },
      "execution_count": 85,
      "outputs": []
    },
    {
      "cell_type": "code",
      "source": [
        "accuracy, ba_tse"
      ],
      "metadata": {
        "colab": {
          "base_uri": "https://localhost:8080/"
        },
        "id": "IwCQWl2Wyl-P",
        "outputId": "e3a98136-7268-4c95-eb1e-32ec34f92af8"
      },
      "execution_count": 84,
      "outputs": [
        {
          "output_type": "execute_result",
          "data": {
            "text/plain": [
              "(0.6069609507640068, 0.6016598994840155)"
            ]
          },
          "metadata": {},
          "execution_count": 84
        }
      ]
    },
    {
      "cell_type": "markdown",
      "source": [
        "# tests for news sentiment\n",
        "\n",
        "https://www.kaggle.com/datasets/hoshi7/news-sentiment-dataset"
      ],
      "metadata": {
        "id": "EHd2boi_0HFK"
      }
    },
    {
      "cell_type": "code",
      "source": [
        "test_ns_data2=pd.read_csv(\"/content/drive/MyDrive/Stuuudia/Magisterka/other_datasets_for_tests/news_sentiment_dataset/Sentiment_dataset.csv\")\n",
        "test_ns_data2"
      ],
      "metadata": {
        "colab": {
          "base_uri": "https://localhost:8080/",
          "height": 580
        },
        "id": "_fve9ly40Kl5",
        "outputId": "1de2f27b-2d7a-4966-af44-808fce273086"
      },
      "execution_count": 117,
      "outputs": [
        {
          "output_type": "execute_result",
          "data": {
            "text/plain": [
              "                                            news_title  \\\n",
              "0             Mark Cuban launches generic drug company   \n",
              "1    From Defendant to Defender: One Wrongfully Con...   \n",
              "2    Amazon Tribe Wins Lawsuit Against Big Oil, Sav...   \n",
              "3    Newark police: No officer fired a single shot ...   \n",
              "4                   Ingen barn døde i trafikken i 2019   \n",
              "..                                                 ...   \n",
              "843  Dee Why attack: Man allegedly choked and threa...   \n",
              "844  Africa: Children and HIV/Aids - 'We Need to Ta...   \n",
              "845                Terrorism suspected in Eilat attack   \n",
              "846  Anti-Semitism never disappeared in Europe. It'...   \n",
              "847     Five dead, 32 injured in Hong Kong coach crash   \n",
              "\n",
              "                                          reddit_title  sentiment  \\\n",
              "0    Billionaire Mark Cuban just launched a drug co...        1.0   \n",
              "1    Man falsely imprisoned for 10 years, uses pris...        1.0   \n",
              "2    Amazon tribe wins legal battle against oil com...        1.0   \n",
              "3    Newark police: No officer fired a single shot ...        1.0   \n",
              "4    No children died in traffic accidents in Norwa...        1.0   \n",
              "..                                                 ...        ...   \n",
              "843  Dee Why attack: Man allegedly choked and threa...        0.0   \n",
              "844  Africa: Children and HIV/Aids - 'We Need to Ta...        0.0   \n",
              "845                Terrorism suspected in Eilat attack        0.0   \n",
              "846  Anti-Semitism never disappeared in Europe. It'...        0.0   \n",
              "847     Five dead, 32 injured in Hong Kong coach crash        0.0   \n",
              "\n",
              "                                                  text  \\\n",
              "0    Billionaire investor and Shark Tank star Mark ...   \n",
              "1    Attorney Jarrett Adams recently helped overtur...   \n",
              "2    The Amazon Rainforest is well known across the...   \n",
              "3    Newark police: No officer fired a single shot ...   \n",
              "4    I 1970 døde det 560 mennesker i den norske tra...   \n",
              "..                                                 ...   \n",
              "843  Frightening details have emerged about a toile...   \n",
              "844  interview\\n\\nJohannesburg — 360,000 adolescent...   \n",
              "845  A violent attack in the southern Israeli port ...   \n",
              "846  It's a 17-year-old boy, too frightened to wear...   \n",
              "847  HONG KONG (AFP) - Five people were killed and ...   \n",
              "\n",
              "                                                   url  \n",
              "0    https://www.beckershospitalreview.com/pharmacy...  \n",
              "1    https://www.nbcnews.com/news/us-news/defendant...  \n",
              "2    https://www.disclose.tv/amazon-tribe-wins-laws...  \n",
              "3    https://newjersey.news12.com/newark-police-no-...  \n",
              "4    https://www.nrk.no/trondelag/ingen-barn-dode-i...  \n",
              "..                                                 ...  \n",
              "843  https://www.9news.com.au/2018/11/30/17/55/sydn...  \n",
              "844    https://allafrica.com/stories/201811300567.html  \n",
              "845  http://www.israelnationalnews.com/News/News.as...  \n",
              "846  https://edition.cnn.com/2018/11/27/europe/anti...  \n",
              "847  https://www.straitstimes.com/asia/east-asia/fi...  \n",
              "\n",
              "[848 rows x 5 columns]"
            ],
            "text/html": [
              "\n",
              "  <div id=\"df-2756a57d-f458-4122-9b25-7dd096bcd42e\" class=\"colab-df-container\">\n",
              "    <div>\n",
              "<style scoped>\n",
              "    .dataframe tbody tr th:only-of-type {\n",
              "        vertical-align: middle;\n",
              "    }\n",
              "\n",
              "    .dataframe tbody tr th {\n",
              "        vertical-align: top;\n",
              "    }\n",
              "\n",
              "    .dataframe thead th {\n",
              "        text-align: right;\n",
              "    }\n",
              "</style>\n",
              "<table border=\"1\" class=\"dataframe\">\n",
              "  <thead>\n",
              "    <tr style=\"text-align: right;\">\n",
              "      <th></th>\n",
              "      <th>news_title</th>\n",
              "      <th>reddit_title</th>\n",
              "      <th>sentiment</th>\n",
              "      <th>text</th>\n",
              "      <th>url</th>\n",
              "    </tr>\n",
              "  </thead>\n",
              "  <tbody>\n",
              "    <tr>\n",
              "      <th>0</th>\n",
              "      <td>Mark Cuban launches generic drug company</td>\n",
              "      <td>Billionaire Mark Cuban just launched a drug co...</td>\n",
              "      <td>1.0</td>\n",
              "      <td>Billionaire investor and Shark Tank star Mark ...</td>\n",
              "      <td>https://www.beckershospitalreview.com/pharmacy...</td>\n",
              "    </tr>\n",
              "    <tr>\n",
              "      <th>1</th>\n",
              "      <td>From Defendant to Defender: One Wrongfully Con...</td>\n",
              "      <td>Man falsely imprisoned for 10 years, uses pris...</td>\n",
              "      <td>1.0</td>\n",
              "      <td>Attorney Jarrett Adams recently helped overtur...</td>\n",
              "      <td>https://www.nbcnews.com/news/us-news/defendant...</td>\n",
              "    </tr>\n",
              "    <tr>\n",
              "      <th>2</th>\n",
              "      <td>Amazon Tribe Wins Lawsuit Against Big Oil, Sav...</td>\n",
              "      <td>Amazon tribe wins legal battle against oil com...</td>\n",
              "      <td>1.0</td>\n",
              "      <td>The Amazon Rainforest is well known across the...</td>\n",
              "      <td>https://www.disclose.tv/amazon-tribe-wins-laws...</td>\n",
              "    </tr>\n",
              "    <tr>\n",
              "      <th>3</th>\n",
              "      <td>Newark police: No officer fired a single shot ...</td>\n",
              "      <td>Newark police: No officer fired a single shot ...</td>\n",
              "      <td>1.0</td>\n",
              "      <td>Newark police: No officer fired a single shot ...</td>\n",
              "      <td>https://newjersey.news12.com/newark-police-no-...</td>\n",
              "    </tr>\n",
              "    <tr>\n",
              "      <th>4</th>\n",
              "      <td>Ingen barn døde i trafikken i 2019</td>\n",
              "      <td>No children died in traffic accidents in Norwa...</td>\n",
              "      <td>1.0</td>\n",
              "      <td>I 1970 døde det 560 mennesker i den norske tra...</td>\n",
              "      <td>https://www.nrk.no/trondelag/ingen-barn-dode-i...</td>\n",
              "    </tr>\n",
              "    <tr>\n",
              "      <th>...</th>\n",
              "      <td>...</td>\n",
              "      <td>...</td>\n",
              "      <td>...</td>\n",
              "      <td>...</td>\n",
              "      <td>...</td>\n",
              "    </tr>\n",
              "    <tr>\n",
              "      <th>843</th>\n",
              "      <td>Dee Why attack: Man allegedly choked and threa...</td>\n",
              "      <td>Dee Why attack: Man allegedly choked and threa...</td>\n",
              "      <td>0.0</td>\n",
              "      <td>Frightening details have emerged about a toile...</td>\n",
              "      <td>https://www.9news.com.au/2018/11/30/17/55/sydn...</td>\n",
              "    </tr>\n",
              "    <tr>\n",
              "      <th>844</th>\n",
              "      <td>Africa: Children and HIV/Aids - 'We Need to Ta...</td>\n",
              "      <td>Africa: Children and HIV/Aids - 'We Need to Ta...</td>\n",
              "      <td>0.0</td>\n",
              "      <td>interview\\n\\nJohannesburg — 360,000 adolescent...</td>\n",
              "      <td>https://allafrica.com/stories/201811300567.html</td>\n",
              "    </tr>\n",
              "    <tr>\n",
              "      <th>845</th>\n",
              "      <td>Terrorism suspected in Eilat attack</td>\n",
              "      <td>Terrorism suspected in Eilat attack</td>\n",
              "      <td>0.0</td>\n",
              "      <td>A violent attack in the southern Israeli port ...</td>\n",
              "      <td>http://www.israelnationalnews.com/News/News.as...</td>\n",
              "    </tr>\n",
              "    <tr>\n",
              "      <th>846</th>\n",
              "      <td>Anti-Semitism never disappeared in Europe. It'...</td>\n",
              "      <td>Anti-Semitism never disappeared in Europe. It'...</td>\n",
              "      <td>0.0</td>\n",
              "      <td>It's a 17-year-old boy, too frightened to wear...</td>\n",
              "      <td>https://edition.cnn.com/2018/11/27/europe/anti...</td>\n",
              "    </tr>\n",
              "    <tr>\n",
              "      <th>847</th>\n",
              "      <td>Five dead, 32 injured in Hong Kong coach crash</td>\n",
              "      <td>Five dead, 32 injured in Hong Kong coach crash</td>\n",
              "      <td>0.0</td>\n",
              "      <td>HONG KONG (AFP) - Five people were killed and ...</td>\n",
              "      <td>https://www.straitstimes.com/asia/east-asia/fi...</td>\n",
              "    </tr>\n",
              "  </tbody>\n",
              "</table>\n",
              "<p>848 rows × 5 columns</p>\n",
              "</div>\n",
              "    <div class=\"colab-df-buttons\">\n",
              "\n",
              "  <div class=\"colab-df-container\">\n",
              "    <button class=\"colab-df-convert\" onclick=\"convertToInteractive('df-2756a57d-f458-4122-9b25-7dd096bcd42e')\"\n",
              "            title=\"Convert this dataframe to an interactive table.\"\n",
              "            style=\"display:none;\">\n",
              "\n",
              "  <svg xmlns=\"http://www.w3.org/2000/svg\" height=\"24px\" viewBox=\"0 -960 960 960\">\n",
              "    <path d=\"M120-120v-720h720v720H120Zm60-500h600v-160H180v160Zm220 220h160v-160H400v160Zm0 220h160v-160H400v160ZM180-400h160v-160H180v160Zm440 0h160v-160H620v160ZM180-180h160v-160H180v160Zm440 0h160v-160H620v160Z\"/>\n",
              "  </svg>\n",
              "    </button>\n",
              "\n",
              "  <style>\n",
              "    .colab-df-container {\n",
              "      display:flex;\n",
              "      gap: 12px;\n",
              "    }\n",
              "\n",
              "    .colab-df-convert {\n",
              "      background-color: #E8F0FE;\n",
              "      border: none;\n",
              "      border-radius: 50%;\n",
              "      cursor: pointer;\n",
              "      display: none;\n",
              "      fill: #1967D2;\n",
              "      height: 32px;\n",
              "      padding: 0 0 0 0;\n",
              "      width: 32px;\n",
              "    }\n",
              "\n",
              "    .colab-df-convert:hover {\n",
              "      background-color: #E2EBFA;\n",
              "      box-shadow: 0px 1px 2px rgba(60, 64, 67, 0.3), 0px 1px 3px 1px rgba(60, 64, 67, 0.15);\n",
              "      fill: #174EA6;\n",
              "    }\n",
              "\n",
              "    .colab-df-buttons div {\n",
              "      margin-bottom: 4px;\n",
              "    }\n",
              "\n",
              "    [theme=dark] .colab-df-convert {\n",
              "      background-color: #3B4455;\n",
              "      fill: #D2E3FC;\n",
              "    }\n",
              "\n",
              "    [theme=dark] .colab-df-convert:hover {\n",
              "      background-color: #434B5C;\n",
              "      box-shadow: 0px 1px 3px 1px rgba(0, 0, 0, 0.15);\n",
              "      filter: drop-shadow(0px 1px 2px rgba(0, 0, 0, 0.3));\n",
              "      fill: #FFFFFF;\n",
              "    }\n",
              "  </style>\n",
              "\n",
              "    <script>\n",
              "      const buttonEl =\n",
              "        document.querySelector('#df-2756a57d-f458-4122-9b25-7dd096bcd42e button.colab-df-convert');\n",
              "      buttonEl.style.display =\n",
              "        google.colab.kernel.accessAllowed ? 'block' : 'none';\n",
              "\n",
              "      async function convertToInteractive(key) {\n",
              "        const element = document.querySelector('#df-2756a57d-f458-4122-9b25-7dd096bcd42e');\n",
              "        const dataTable =\n",
              "          await google.colab.kernel.invokeFunction('convertToInteractive',\n",
              "                                                    [key], {});\n",
              "        if (!dataTable) return;\n",
              "\n",
              "        const docLinkHtml = 'Like what you see? Visit the ' +\n",
              "          '<a target=\"_blank\" href=https://colab.research.google.com/notebooks/data_table.ipynb>data table notebook</a>'\n",
              "          + ' to learn more about interactive tables.';\n",
              "        element.innerHTML = '';\n",
              "        dataTable['output_type'] = 'display_data';\n",
              "        await google.colab.output.renderOutput(dataTable, element);\n",
              "        const docLink = document.createElement('div');\n",
              "        docLink.innerHTML = docLinkHtml;\n",
              "        element.appendChild(docLink);\n",
              "      }\n",
              "    </script>\n",
              "  </div>\n",
              "\n",
              "\n",
              "<div id=\"df-135c705d-240e-413a-93fb-9a50b328e70c\">\n",
              "  <button class=\"colab-df-quickchart\" onclick=\"quickchart('df-135c705d-240e-413a-93fb-9a50b328e70c')\"\n",
              "            title=\"Suggest charts\"\n",
              "            style=\"display:none;\">\n",
              "\n",
              "<svg xmlns=\"http://www.w3.org/2000/svg\" height=\"24px\"viewBox=\"0 0 24 24\"\n",
              "     width=\"24px\">\n",
              "    <g>\n",
              "        <path d=\"M19 3H5c-1.1 0-2 .9-2 2v14c0 1.1.9 2 2 2h14c1.1 0 2-.9 2-2V5c0-1.1-.9-2-2-2zM9 17H7v-7h2v7zm4 0h-2V7h2v10zm4 0h-2v-4h2v4z\"/>\n",
              "    </g>\n",
              "</svg>\n",
              "  </button>\n",
              "\n",
              "<style>\n",
              "  .colab-df-quickchart {\n",
              "      --bg-color: #E8F0FE;\n",
              "      --fill-color: #1967D2;\n",
              "      --hover-bg-color: #E2EBFA;\n",
              "      --hover-fill-color: #174EA6;\n",
              "      --disabled-fill-color: #AAA;\n",
              "      --disabled-bg-color: #DDD;\n",
              "  }\n",
              "\n",
              "  [theme=dark] .colab-df-quickchart {\n",
              "      --bg-color: #3B4455;\n",
              "      --fill-color: #D2E3FC;\n",
              "      --hover-bg-color: #434B5C;\n",
              "      --hover-fill-color: #FFFFFF;\n",
              "      --disabled-bg-color: #3B4455;\n",
              "      --disabled-fill-color: #666;\n",
              "  }\n",
              "\n",
              "  .colab-df-quickchart {\n",
              "    background-color: var(--bg-color);\n",
              "    border: none;\n",
              "    border-radius: 50%;\n",
              "    cursor: pointer;\n",
              "    display: none;\n",
              "    fill: var(--fill-color);\n",
              "    height: 32px;\n",
              "    padding: 0;\n",
              "    width: 32px;\n",
              "  }\n",
              "\n",
              "  .colab-df-quickchart:hover {\n",
              "    background-color: var(--hover-bg-color);\n",
              "    box-shadow: 0 1px 2px rgba(60, 64, 67, 0.3), 0 1px 3px 1px rgba(60, 64, 67, 0.15);\n",
              "    fill: var(--button-hover-fill-color);\n",
              "  }\n",
              "\n",
              "  .colab-df-quickchart-complete:disabled,\n",
              "  .colab-df-quickchart-complete:disabled:hover {\n",
              "    background-color: var(--disabled-bg-color);\n",
              "    fill: var(--disabled-fill-color);\n",
              "    box-shadow: none;\n",
              "  }\n",
              "\n",
              "  .colab-df-spinner {\n",
              "    border: 2px solid var(--fill-color);\n",
              "    border-color: transparent;\n",
              "    border-bottom-color: var(--fill-color);\n",
              "    animation:\n",
              "      spin 1s steps(1) infinite;\n",
              "  }\n",
              "\n",
              "  @keyframes spin {\n",
              "    0% {\n",
              "      border-color: transparent;\n",
              "      border-bottom-color: var(--fill-color);\n",
              "      border-left-color: var(--fill-color);\n",
              "    }\n",
              "    20% {\n",
              "      border-color: transparent;\n",
              "      border-left-color: var(--fill-color);\n",
              "      border-top-color: var(--fill-color);\n",
              "    }\n",
              "    30% {\n",
              "      border-color: transparent;\n",
              "      border-left-color: var(--fill-color);\n",
              "      border-top-color: var(--fill-color);\n",
              "      border-right-color: var(--fill-color);\n",
              "    }\n",
              "    40% {\n",
              "      border-color: transparent;\n",
              "      border-right-color: var(--fill-color);\n",
              "      border-top-color: var(--fill-color);\n",
              "    }\n",
              "    60% {\n",
              "      border-color: transparent;\n",
              "      border-right-color: var(--fill-color);\n",
              "    }\n",
              "    80% {\n",
              "      border-color: transparent;\n",
              "      border-right-color: var(--fill-color);\n",
              "      border-bottom-color: var(--fill-color);\n",
              "    }\n",
              "    90% {\n",
              "      border-color: transparent;\n",
              "      border-bottom-color: var(--fill-color);\n",
              "    }\n",
              "  }\n",
              "</style>\n",
              "\n",
              "  <script>\n",
              "    async function quickchart(key) {\n",
              "      const quickchartButtonEl =\n",
              "        document.querySelector('#' + key + ' button');\n",
              "      quickchartButtonEl.disabled = true;  // To prevent multiple clicks.\n",
              "      quickchartButtonEl.classList.add('colab-df-spinner');\n",
              "      try {\n",
              "        const charts = await google.colab.kernel.invokeFunction(\n",
              "            'suggestCharts', [key], {});\n",
              "      } catch (error) {\n",
              "        console.error('Error during call to suggestCharts:', error);\n",
              "      }\n",
              "      quickchartButtonEl.classList.remove('colab-df-spinner');\n",
              "      quickchartButtonEl.classList.add('colab-df-quickchart-complete');\n",
              "    }\n",
              "    (() => {\n",
              "      let quickchartButtonEl =\n",
              "        document.querySelector('#df-135c705d-240e-413a-93fb-9a50b328e70c button');\n",
              "      quickchartButtonEl.style.display =\n",
              "        google.colab.kernel.accessAllowed ? 'block' : 'none';\n",
              "    })();\n",
              "  </script>\n",
              "</div>\n",
              "    </div>\n",
              "  </div>\n"
            ],
            "application/vnd.google.colaboratory.intrinsic+json": {
              "type": "dataframe",
              "variable_name": "test_ns_data2",
              "summary": "{\n  \"name\": \"test_ns_data2\",\n  \"rows\": 848,\n  \"fields\": [\n    {\n      \"column\": \"news_title\",\n      \"properties\": {\n        \"dtype\": \"string\",\n        \"num_unique_values\": 847,\n        \"samples\": [\n          \"Stray dog who visited car dealership every day gets adopted and lands dream job\",\n          \"One woman\\u2019s race to defuse the genetic time bomb in her genes\",\n          \"The man who saves forgotten cats in Fukushima's nuclear zone\"\n        ],\n        \"semantic_type\": \"\",\n        \"description\": \"\"\n      }\n    },\n    {\n      \"column\": \"reddit_title\",\n      \"properties\": {\n        \"dtype\": \"string\",\n        \"num_unique_values\": 848,\n        \"samples\": [\n          \"Church wipes out $46.5 million in medical debt\",\n          \"Austria is turning site of Hitler's birth into a police station to repel neo-Nazis\",\n          \"All 955 trapped South Africa gold miners resurface after 30-hour ordeal.\"\n        ],\n        \"semantic_type\": \"\",\n        \"description\": \"\"\n      }\n    },\n    {\n      \"column\": \"sentiment\",\n      \"properties\": {\n        \"dtype\": \"number\",\n        \"std\": 0.3227090669271487,\n        \"min\": 0.0,\n        \"max\": 1.0,\n        \"num_unique_values\": 2,\n        \"samples\": [\n          0.0,\n          1.0\n        ],\n        \"semantic_type\": \"\",\n        \"description\": \"\"\n      }\n    },\n    {\n      \"column\": \"text\",\n      \"properties\": {\n        \"dtype\": \"string\",\n        \"num_unique_values\": 847,\n        \"samples\": [\n          \"Calling all dog lovers! Sign up to TeamDogs for your weekly dose of dog news, pictures and stories. Invalid Email Something went wrong, please try again later. Sign up Thank you for subscribing We have more newsletters Show me See our privacy notice\\n\\nPersistence has paid off for a stray dog who refused to stop turning up to a car dealership \\u2013 after he was adopted and simultaneously landed his dream job.\\n\\nThe lonely pooch kept going to a Hyundai Prime branch in Brazil, and after staff fell in love with him they decided to adopt him and put him to work.\\n\\nNewly-named Tucson Prime is now in charge of meeting and greeting customers to the dealership, and he couldn't be happier.\\n\\nAccording to Bored Panda, one night when it was particularly rainy, manager Emerson Mariano invited the pooch inside and let him have some food and water.\\n\\n(Image: tucson_prime/Instagram)\\n\\nBut he kept coming back after that, so staff at the dealership adopted him.\\n\\nTucson Prime's 'very caring and docile nature' gave managers an idea and now he's a fully-fledged employee.\\n\\nEmerson Mariano told media outlet Top Motors Brazil: \\\"After all, the company has always been pet friendly, so now, we decided to embrace this idea in practice too, having our own pet precisely at a more complicated time like this with so many abandoned animals.\\\"\\n\\n(Image: tucson_prime/Instagram)\\n\\nTucson Prime has also become a star on Instagram, and already has more than 108,000 followers.\\n\\nA recent post on the account said: \\\"Today my day started early, but it was not in sales, I am trying to read and answer the thousands, I swear, miles of messages I received in the last few days.\\n\\n\\\"But where I came from, I didn't have this technology. Me and my humans are still trying to find a way to deal with so much love and affection like that. If I didn't open your message or answered, I wanted to apologise, but we are trying our best to open all messages to try to thank you all, I am very happy with all this!\\\"\",\n          \"In 2011, Sonia Vallabh was handed a genetic report that contained a death sentence. But it also held a map for how to escape.\\n\\nHer body, she learned, harbored a gene mutation, a single wrong letter of DNA in her \\u201cprion\\u201d gene, that would eventually lead to a rare brain condition called fatal familial insomnia. Her mother had died of it the year before, and the test had revealed Vallabh had inherited the flaw too.\\n\\nBy now, the decision by Vallabh and her husband, Eric Minikel, to try to prevent her disease\\u2014\\u201ca prion love story,\\u201d the New Yorker called it\\u2014is well-known. After the diagnosis of the genetic time bomb, they dropped out of their careers in law and engineering and became scientists dedicated to defusing it. They expect to get PhDs next spring (see \\u201cSonia Vallabh, 35 Innovators Under 35, 2016\\u201d.)\\n\\nNow, after seven years, they think they have found a treatment that can do it. It\\u2019s called an antisense drug, a type of mirror-image molecule that, if it reaches the brain, could greatly reduce the amount of the prion protein. That could potentially forestall the mysterious chain reaction of misfolding proteins that characterize prion diseases.\\n\\nLess of the protein, Vallabh reasons, and less chance she\\u2019ll get sick.\\n\\nTwo weeks ago, on their blog, Vallabh announced she and Minikel were working with a commercial partner, the California biotech company Ionis, which specializes in antisense compounds. \\u201cFor the first time, I am optimistic about a specific therapeutic strategy,\\u201d she wrote. It\\u2019s \\u201cplausible\\u201d that antisense could treat the disease \\u201cin our lifetime.\\u201d\\n\\nVallabh\\u2019s race to prevent her own prion disease raises a question for the genetic age. Given a perfect DNA blueprint of your inherited disease, what\\u2019s your chance of stopping it in your lifetime, or that of someone you love?\\n\\nThere are reasons to think these types of medical long shots have become more likely to hit the mark. That is because gene sequencing can cheaply reveal molecular flaws, but also because a set of promising technologies\\u2014antisense, gene therapy, and CRISPR gene editing\\u2014are able to replace genes or silence them, in effect fixing genetic problems at their source.\\n\\nA close-up of up brain tissue affected by prions, misfolded protein that are toxic to neurons. wikimedia commons\\n\\nWhat\\u2019s more, these treatments employ the genetic code; they are actually made of DNA or RNA. That means that they\\u2019re fundamentally modular and programmable. At least on paper, it is now possible to take any genetic flaw and quickly sketch an antidote.\\n\\nIn reality, drug development is notoriously complicated. Most drugs fail, torn down by biological surprises and unexpected toxicity to the human body. But Vallabh says in the early, confusing days of her quest, she received critical advice from Eric Lander, the biologist who leads the Broad Institute, where she and Minikel now study and work. He told her to focus on the genetic error itself\\u2014the blueprint of which was in her diagnosis.\\n\\n\\u201cYou need to see what you have in your hand and stop looking,\\u201d she recalls him saying.\\n\\nThat meant not waiting to answer important scientific unknowns, like what the prion protein does in the body, or why, when it misfolds, it kills brain cells. \\u201cThere are so many interesting questions about prion disease,\\u201d says Vallabh, who is 34. \\u201cAnd those questions will still be there when we are treating it.\\u201d\\n\\nPrion diseases are profoundly strange because they\\u2019re caused not by a virus, but by an infectious protein. They include scrapie in sheep, Kuru (spread by cannibalism), Creutzfelt-Jakob disease, and the human version of mad cow disease.\\n\\nThe key drug insight was that mice engineered to lack the prion protein gene never get sick, even when scientists inject infectious prions into their brains. \\u201cThe biological concept of a prion is a protein that changes it conformation, and that can template further copies. It\\u2019s self-templating. That allows it to spread,\\u201d says Kurt Giles, a researcher in the lab at the University of California, San Francisco, where prions were first discovered. \\u201cThat leads to the idea of reducing the [protein]. The less of it there is, then you will get less templating.\\u201d\\n\\nFor genetic therapies, though, there\\u2019s a further problem, which is how to get them into the body so that they reach, for instance, billions of brain cells.\\n\\nAntisense technology, conceived decades ago, had its big breakthrough last year when a drug developed by Ionis proved to be astoundingly effective in treating a childhood neurological disorder, spinal muscular atrophy.\\n\\nBy then, Vallabh and Minikel had been introduced to Ionis, and the company had agreed to provide them with antisense compounds targeted to the prion gene to test in mice. Holly Kordasiewicz, the head of neuroscience at Ionis, recalls the 2014 meeting. \\u201cWe left the room saying we need to do everything that we can to help these people,\\u201d she says.\\n\\nThe company gave Vallabh and Minikel a to-do list, which they quickly worked through. Patient registry? Check. Animal studies? Check. Biomarker to show if a drug is working? That research, too, is under way at a Boston hospital studying prion protein levels in spinal fluid.\\n\\n\\u201cSonia and Eric are doing this with no real funding, just trying to make it happen,\\u201d says Jeff Carroll, another patient scientist (he\\u2019s got the mutation for Huntington\\u2019s disease), who introduced them to Ionis.\\n\\nOne problem not as easily addressed is that prion disease is astoundingly rare, quickly fatal, and rarely diagnosed in advance. That means there has been no great clamor for treatments. Maybe only 200 people in the U.S. know they have a time bomb like Vallabh, she says, and there\\u2019s not a single drug currently in human testing. Early on, Ionis let the pair know the collaboration was strictly academic and not a commercial prospect.\\n\\nBut by blotting out the prion protein at its source, an antisense treatment might help with a range of rare conditions linked to it. Fatal insomnia is vanishingly uncommon, as are cases of mad cow disease, but adding these \\u201cultra-rare\\u201d diseases together makes them, as a group, slightly less rare.\\n\\nVallabh and Minikel say they now have proof that Ionis\\u2019s antisense molecules partly protect mice from prion disease. Those animals given the drug live about 70 percent longer.\\n\\nKordasiewicz now terms the program a \\u201ccommercial\\u201d project at Ionis, though it remains too small and early-stage to appear on the company\\u2019s pipeline chart of drugs under development. \\u201cWhat changed is the data is looking good enough that we think we can have a drug in five years,\\u201d she says.\\n\\nVallabh hopes it can all go even faster. The fatal insomnia could begin to afflict her tomorrow, or in 30 years. There\\u2019s no way to predict it. She and Minikel just had their first child. The girl was conceived through IVF, and Vallabh says the lab employed a genetic test to assure them she wouldn\\u2019t carry the mutation.\\n\\nTo save herself, it\\u2019s not going to be enough to have a drug. She needs to get it before she ever falls ill. Yet doctors have little experience giving such a genetic drug over many years as a form of prevention.\\n\\nFiguring out how to carry off such a study is the next challenge for Vallabh and her husband. It appears they hope the US Food and Drug Administration will permit a prevention trial in patients who carry the prion mutations. Since it can take decades for people to get sick (or not), such a study would instead rely on a biomarker, such as whether antisense injections can reduce prion protein levels in the spinal fluid.\\n\\nVallabh told me she would volunteer to take the drug. \\u201cThe big picture,\\u201d she says, \\u201cis we are moving much more quickly than anyone could expect due to this beautifully clear genetic blueprint we were handed.\\u201d\"\n        ],\n        \"semantic_type\": \"\",\n        \"description\": \"\"\n      }\n    },\n    {\n      \"column\": \"url\",\n      \"properties\": {\n        \"dtype\": \"string\",\n        \"num_unique_values\": 848,\n        \"samples\": [\n          \"https://www.cincinnati.com/story/news/2020/02/24/crossroads-church-nonprofit-wipe-out-46-5-million-medical-debt/4854753002/?fbclid=IwAR1MMDWZKi9U_rQ8bwSZB_irls6Ejjqgu4oMrZuozZ23yI8qG5tIEKw59-s\",\n          \"https://theweek.com/speedreads/879727/austria-turning-site-hitlers-birth-into-police-station-repel-neonazis\"\n        ],\n        \"semantic_type\": \"\",\n        \"description\": \"\"\n      }\n    }\n  ]\n}"
            }
          },
          "metadata": {},
          "execution_count": 117
        }
      ]
    },
    {
      "cell_type": "code",
      "source": [
        "test_ns_data2['sentiment'].unique() #1 positive, 0 negative"
      ],
      "metadata": {
        "colab": {
          "base_uri": "https://localhost:8080/"
        },
        "id": "kPoeqhyc1qIF",
        "outputId": "e851eb3c-b118-422d-c034-0979774d856a"
      },
      "execution_count": 118,
      "outputs": [
        {
          "output_type": "execute_result",
          "data": {
            "text/plain": [
              "array([1., 0.])"
            ]
          },
          "metadata": {},
          "execution_count": 118
        }
      ]
    },
    {
      "cell_type": "code",
      "source": [
        "def map_values(x):\n",
        "  if x==1:\n",
        "    return 'positive'\n",
        "  elif x==0:\n",
        "    return 'negative'\n",
        "  else:\n",
        "    return 'neutral'\n",
        "\n",
        "test_ns_data2['sentiment']=test_ns_data2['sentiment'].apply(map_values)"
      ],
      "metadata": {
        "id": "R1h9a4Hu3vAo"
      },
      "execution_count": 121,
      "outputs": []
    },
    {
      "cell_type": "code",
      "source": [
        "test_ns_data2[\"predicted_sentiment\"]=''\n",
        "test_ns_data2"
      ],
      "metadata": {
        "colab": {
          "base_uri": "https://localhost:8080/",
          "height": 597
        },
        "id": "rsGxD7nf1v1J",
        "outputId": "2d3e6165-5d48-493f-b5c5-5bc79b7afd67"
      },
      "execution_count": 122,
      "outputs": [
        {
          "output_type": "execute_result",
          "data": {
            "text/plain": [
              "                                            news_title  \\\n",
              "0             Mark Cuban launches generic drug company   \n",
              "1    From Defendant to Defender: One Wrongfully Con...   \n",
              "2    Amazon Tribe Wins Lawsuit Against Big Oil, Sav...   \n",
              "3    Newark police: No officer fired a single shot ...   \n",
              "4                   Ingen barn døde i trafikken i 2019   \n",
              "..                                                 ...   \n",
              "843  Dee Why attack: Man allegedly choked and threa...   \n",
              "844  Africa: Children and HIV/Aids - 'We Need to Ta...   \n",
              "845                Terrorism suspected in Eilat attack   \n",
              "846  Anti-Semitism never disappeared in Europe. It'...   \n",
              "847     Five dead, 32 injured in Hong Kong coach crash   \n",
              "\n",
              "                                          reddit_title sentiment  \\\n",
              "0    Billionaire Mark Cuban just launched a drug co...  positive   \n",
              "1    Man falsely imprisoned for 10 years, uses pris...  positive   \n",
              "2    Amazon tribe wins legal battle against oil com...  positive   \n",
              "3    Newark police: No officer fired a single shot ...  positive   \n",
              "4    No children died in traffic accidents in Norwa...  positive   \n",
              "..                                                 ...       ...   \n",
              "843  Dee Why attack: Man allegedly choked and threa...  negative   \n",
              "844  Africa: Children and HIV/Aids - 'We Need to Ta...  negative   \n",
              "845                Terrorism suspected in Eilat attack  negative   \n",
              "846  Anti-Semitism never disappeared in Europe. It'...  negative   \n",
              "847     Five dead, 32 injured in Hong Kong coach crash  negative   \n",
              "\n",
              "                                                  text  \\\n",
              "0    Billionaire investor and Shark Tank star Mark ...   \n",
              "1    Attorney Jarrett Adams recently helped overtur...   \n",
              "2    The Amazon Rainforest is well known across the...   \n",
              "3    Newark police: No officer fired a single shot ...   \n",
              "4    I 1970 døde det 560 mennesker i den norske tra...   \n",
              "..                                                 ...   \n",
              "843  Frightening details have emerged about a toile...   \n",
              "844  interview\\n\\nJohannesburg — 360,000 adolescent...   \n",
              "845  A violent attack in the southern Israeli port ...   \n",
              "846  It's a 17-year-old boy, too frightened to wear...   \n",
              "847  HONG KONG (AFP) - Five people were killed and ...   \n",
              "\n",
              "                                                   url predicted_sentiment  \n",
              "0    https://www.beckershospitalreview.com/pharmacy...                      \n",
              "1    https://www.nbcnews.com/news/us-news/defendant...                      \n",
              "2    https://www.disclose.tv/amazon-tribe-wins-laws...                      \n",
              "3    https://newjersey.news12.com/newark-police-no-...                      \n",
              "4    https://www.nrk.no/trondelag/ingen-barn-dode-i...                      \n",
              "..                                                 ...                 ...  \n",
              "843  https://www.9news.com.au/2018/11/30/17/55/sydn...                      \n",
              "844    https://allafrica.com/stories/201811300567.html                      \n",
              "845  http://www.israelnationalnews.com/News/News.as...                      \n",
              "846  https://edition.cnn.com/2018/11/27/europe/anti...                      \n",
              "847  https://www.straitstimes.com/asia/east-asia/fi...                      \n",
              "\n",
              "[848 rows x 6 columns]"
            ],
            "text/html": [
              "\n",
              "  <div id=\"df-975c4c4f-8a04-401f-b17a-8492962321bf\" class=\"colab-df-container\">\n",
              "    <div>\n",
              "<style scoped>\n",
              "    .dataframe tbody tr th:only-of-type {\n",
              "        vertical-align: middle;\n",
              "    }\n",
              "\n",
              "    .dataframe tbody tr th {\n",
              "        vertical-align: top;\n",
              "    }\n",
              "\n",
              "    .dataframe thead th {\n",
              "        text-align: right;\n",
              "    }\n",
              "</style>\n",
              "<table border=\"1\" class=\"dataframe\">\n",
              "  <thead>\n",
              "    <tr style=\"text-align: right;\">\n",
              "      <th></th>\n",
              "      <th>news_title</th>\n",
              "      <th>reddit_title</th>\n",
              "      <th>sentiment</th>\n",
              "      <th>text</th>\n",
              "      <th>url</th>\n",
              "      <th>predicted_sentiment</th>\n",
              "    </tr>\n",
              "  </thead>\n",
              "  <tbody>\n",
              "    <tr>\n",
              "      <th>0</th>\n",
              "      <td>Mark Cuban launches generic drug company</td>\n",
              "      <td>Billionaire Mark Cuban just launched a drug co...</td>\n",
              "      <td>positive</td>\n",
              "      <td>Billionaire investor and Shark Tank star Mark ...</td>\n",
              "      <td>https://www.beckershospitalreview.com/pharmacy...</td>\n",
              "      <td></td>\n",
              "    </tr>\n",
              "    <tr>\n",
              "      <th>1</th>\n",
              "      <td>From Defendant to Defender: One Wrongfully Con...</td>\n",
              "      <td>Man falsely imprisoned for 10 years, uses pris...</td>\n",
              "      <td>positive</td>\n",
              "      <td>Attorney Jarrett Adams recently helped overtur...</td>\n",
              "      <td>https://www.nbcnews.com/news/us-news/defendant...</td>\n",
              "      <td></td>\n",
              "    </tr>\n",
              "    <tr>\n",
              "      <th>2</th>\n",
              "      <td>Amazon Tribe Wins Lawsuit Against Big Oil, Sav...</td>\n",
              "      <td>Amazon tribe wins legal battle against oil com...</td>\n",
              "      <td>positive</td>\n",
              "      <td>The Amazon Rainforest is well known across the...</td>\n",
              "      <td>https://www.disclose.tv/amazon-tribe-wins-laws...</td>\n",
              "      <td></td>\n",
              "    </tr>\n",
              "    <tr>\n",
              "      <th>3</th>\n",
              "      <td>Newark police: No officer fired a single shot ...</td>\n",
              "      <td>Newark police: No officer fired a single shot ...</td>\n",
              "      <td>positive</td>\n",
              "      <td>Newark police: No officer fired a single shot ...</td>\n",
              "      <td>https://newjersey.news12.com/newark-police-no-...</td>\n",
              "      <td></td>\n",
              "    </tr>\n",
              "    <tr>\n",
              "      <th>4</th>\n",
              "      <td>Ingen barn døde i trafikken i 2019</td>\n",
              "      <td>No children died in traffic accidents in Norwa...</td>\n",
              "      <td>positive</td>\n",
              "      <td>I 1970 døde det 560 mennesker i den norske tra...</td>\n",
              "      <td>https://www.nrk.no/trondelag/ingen-barn-dode-i...</td>\n",
              "      <td></td>\n",
              "    </tr>\n",
              "    <tr>\n",
              "      <th>...</th>\n",
              "      <td>...</td>\n",
              "      <td>...</td>\n",
              "      <td>...</td>\n",
              "      <td>...</td>\n",
              "      <td>...</td>\n",
              "      <td>...</td>\n",
              "    </tr>\n",
              "    <tr>\n",
              "      <th>843</th>\n",
              "      <td>Dee Why attack: Man allegedly choked and threa...</td>\n",
              "      <td>Dee Why attack: Man allegedly choked and threa...</td>\n",
              "      <td>negative</td>\n",
              "      <td>Frightening details have emerged about a toile...</td>\n",
              "      <td>https://www.9news.com.au/2018/11/30/17/55/sydn...</td>\n",
              "      <td></td>\n",
              "    </tr>\n",
              "    <tr>\n",
              "      <th>844</th>\n",
              "      <td>Africa: Children and HIV/Aids - 'We Need to Ta...</td>\n",
              "      <td>Africa: Children and HIV/Aids - 'We Need to Ta...</td>\n",
              "      <td>negative</td>\n",
              "      <td>interview\\n\\nJohannesburg — 360,000 adolescent...</td>\n",
              "      <td>https://allafrica.com/stories/201811300567.html</td>\n",
              "      <td></td>\n",
              "    </tr>\n",
              "    <tr>\n",
              "      <th>845</th>\n",
              "      <td>Terrorism suspected in Eilat attack</td>\n",
              "      <td>Terrorism suspected in Eilat attack</td>\n",
              "      <td>negative</td>\n",
              "      <td>A violent attack in the southern Israeli port ...</td>\n",
              "      <td>http://www.israelnationalnews.com/News/News.as...</td>\n",
              "      <td></td>\n",
              "    </tr>\n",
              "    <tr>\n",
              "      <th>846</th>\n",
              "      <td>Anti-Semitism never disappeared in Europe. It'...</td>\n",
              "      <td>Anti-Semitism never disappeared in Europe. It'...</td>\n",
              "      <td>negative</td>\n",
              "      <td>It's a 17-year-old boy, too frightened to wear...</td>\n",
              "      <td>https://edition.cnn.com/2018/11/27/europe/anti...</td>\n",
              "      <td></td>\n",
              "    </tr>\n",
              "    <tr>\n",
              "      <th>847</th>\n",
              "      <td>Five dead, 32 injured in Hong Kong coach crash</td>\n",
              "      <td>Five dead, 32 injured in Hong Kong coach crash</td>\n",
              "      <td>negative</td>\n",
              "      <td>HONG KONG (AFP) - Five people were killed and ...</td>\n",
              "      <td>https://www.straitstimes.com/asia/east-asia/fi...</td>\n",
              "      <td></td>\n",
              "    </tr>\n",
              "  </tbody>\n",
              "</table>\n",
              "<p>848 rows × 6 columns</p>\n",
              "</div>\n",
              "    <div class=\"colab-df-buttons\">\n",
              "\n",
              "  <div class=\"colab-df-container\">\n",
              "    <button class=\"colab-df-convert\" onclick=\"convertToInteractive('df-975c4c4f-8a04-401f-b17a-8492962321bf')\"\n",
              "            title=\"Convert this dataframe to an interactive table.\"\n",
              "            style=\"display:none;\">\n",
              "\n",
              "  <svg xmlns=\"http://www.w3.org/2000/svg\" height=\"24px\" viewBox=\"0 -960 960 960\">\n",
              "    <path d=\"M120-120v-720h720v720H120Zm60-500h600v-160H180v160Zm220 220h160v-160H400v160Zm0 220h160v-160H400v160ZM180-400h160v-160H180v160Zm440 0h160v-160H620v160ZM180-180h160v-160H180v160Zm440 0h160v-160H620v160Z\"/>\n",
              "  </svg>\n",
              "    </button>\n",
              "\n",
              "  <style>\n",
              "    .colab-df-container {\n",
              "      display:flex;\n",
              "      gap: 12px;\n",
              "    }\n",
              "\n",
              "    .colab-df-convert {\n",
              "      background-color: #E8F0FE;\n",
              "      border: none;\n",
              "      border-radius: 50%;\n",
              "      cursor: pointer;\n",
              "      display: none;\n",
              "      fill: #1967D2;\n",
              "      height: 32px;\n",
              "      padding: 0 0 0 0;\n",
              "      width: 32px;\n",
              "    }\n",
              "\n",
              "    .colab-df-convert:hover {\n",
              "      background-color: #E2EBFA;\n",
              "      box-shadow: 0px 1px 2px rgba(60, 64, 67, 0.3), 0px 1px 3px 1px rgba(60, 64, 67, 0.15);\n",
              "      fill: #174EA6;\n",
              "    }\n",
              "\n",
              "    .colab-df-buttons div {\n",
              "      margin-bottom: 4px;\n",
              "    }\n",
              "\n",
              "    [theme=dark] .colab-df-convert {\n",
              "      background-color: #3B4455;\n",
              "      fill: #D2E3FC;\n",
              "    }\n",
              "\n",
              "    [theme=dark] .colab-df-convert:hover {\n",
              "      background-color: #434B5C;\n",
              "      box-shadow: 0px 1px 3px 1px rgba(0, 0, 0, 0.15);\n",
              "      filter: drop-shadow(0px 1px 2px rgba(0, 0, 0, 0.3));\n",
              "      fill: #FFFFFF;\n",
              "    }\n",
              "  </style>\n",
              "\n",
              "    <script>\n",
              "      const buttonEl =\n",
              "        document.querySelector('#df-975c4c4f-8a04-401f-b17a-8492962321bf button.colab-df-convert');\n",
              "      buttonEl.style.display =\n",
              "        google.colab.kernel.accessAllowed ? 'block' : 'none';\n",
              "\n",
              "      async function convertToInteractive(key) {\n",
              "        const element = document.querySelector('#df-975c4c4f-8a04-401f-b17a-8492962321bf');\n",
              "        const dataTable =\n",
              "          await google.colab.kernel.invokeFunction('convertToInteractive',\n",
              "                                                    [key], {});\n",
              "        if (!dataTable) return;\n",
              "\n",
              "        const docLinkHtml = 'Like what you see? Visit the ' +\n",
              "          '<a target=\"_blank\" href=https://colab.research.google.com/notebooks/data_table.ipynb>data table notebook</a>'\n",
              "          + ' to learn more about interactive tables.';\n",
              "        element.innerHTML = '';\n",
              "        dataTable['output_type'] = 'display_data';\n",
              "        await google.colab.output.renderOutput(dataTable, element);\n",
              "        const docLink = document.createElement('div');\n",
              "        docLink.innerHTML = docLinkHtml;\n",
              "        element.appendChild(docLink);\n",
              "      }\n",
              "    </script>\n",
              "  </div>\n",
              "\n",
              "\n",
              "<div id=\"df-0bf75a24-a3a7-4153-b647-d35bd9178cb3\">\n",
              "  <button class=\"colab-df-quickchart\" onclick=\"quickchart('df-0bf75a24-a3a7-4153-b647-d35bd9178cb3')\"\n",
              "            title=\"Suggest charts\"\n",
              "            style=\"display:none;\">\n",
              "\n",
              "<svg xmlns=\"http://www.w3.org/2000/svg\" height=\"24px\"viewBox=\"0 0 24 24\"\n",
              "     width=\"24px\">\n",
              "    <g>\n",
              "        <path d=\"M19 3H5c-1.1 0-2 .9-2 2v14c0 1.1.9 2 2 2h14c1.1 0 2-.9 2-2V5c0-1.1-.9-2-2-2zM9 17H7v-7h2v7zm4 0h-2V7h2v10zm4 0h-2v-4h2v4z\"/>\n",
              "    </g>\n",
              "</svg>\n",
              "  </button>\n",
              "\n",
              "<style>\n",
              "  .colab-df-quickchart {\n",
              "      --bg-color: #E8F0FE;\n",
              "      --fill-color: #1967D2;\n",
              "      --hover-bg-color: #E2EBFA;\n",
              "      --hover-fill-color: #174EA6;\n",
              "      --disabled-fill-color: #AAA;\n",
              "      --disabled-bg-color: #DDD;\n",
              "  }\n",
              "\n",
              "  [theme=dark] .colab-df-quickchart {\n",
              "      --bg-color: #3B4455;\n",
              "      --fill-color: #D2E3FC;\n",
              "      --hover-bg-color: #434B5C;\n",
              "      --hover-fill-color: #FFFFFF;\n",
              "      --disabled-bg-color: #3B4455;\n",
              "      --disabled-fill-color: #666;\n",
              "  }\n",
              "\n",
              "  .colab-df-quickchart {\n",
              "    background-color: var(--bg-color);\n",
              "    border: none;\n",
              "    border-radius: 50%;\n",
              "    cursor: pointer;\n",
              "    display: none;\n",
              "    fill: var(--fill-color);\n",
              "    height: 32px;\n",
              "    padding: 0;\n",
              "    width: 32px;\n",
              "  }\n",
              "\n",
              "  .colab-df-quickchart:hover {\n",
              "    background-color: var(--hover-bg-color);\n",
              "    box-shadow: 0 1px 2px rgba(60, 64, 67, 0.3), 0 1px 3px 1px rgba(60, 64, 67, 0.15);\n",
              "    fill: var(--button-hover-fill-color);\n",
              "  }\n",
              "\n",
              "  .colab-df-quickchart-complete:disabled,\n",
              "  .colab-df-quickchart-complete:disabled:hover {\n",
              "    background-color: var(--disabled-bg-color);\n",
              "    fill: var(--disabled-fill-color);\n",
              "    box-shadow: none;\n",
              "  }\n",
              "\n",
              "  .colab-df-spinner {\n",
              "    border: 2px solid var(--fill-color);\n",
              "    border-color: transparent;\n",
              "    border-bottom-color: var(--fill-color);\n",
              "    animation:\n",
              "      spin 1s steps(1) infinite;\n",
              "  }\n",
              "\n",
              "  @keyframes spin {\n",
              "    0% {\n",
              "      border-color: transparent;\n",
              "      border-bottom-color: var(--fill-color);\n",
              "      border-left-color: var(--fill-color);\n",
              "    }\n",
              "    20% {\n",
              "      border-color: transparent;\n",
              "      border-left-color: var(--fill-color);\n",
              "      border-top-color: var(--fill-color);\n",
              "    }\n",
              "    30% {\n",
              "      border-color: transparent;\n",
              "      border-left-color: var(--fill-color);\n",
              "      border-top-color: var(--fill-color);\n",
              "      border-right-color: var(--fill-color);\n",
              "    }\n",
              "    40% {\n",
              "      border-color: transparent;\n",
              "      border-right-color: var(--fill-color);\n",
              "      border-top-color: var(--fill-color);\n",
              "    }\n",
              "    60% {\n",
              "      border-color: transparent;\n",
              "      border-right-color: var(--fill-color);\n",
              "    }\n",
              "    80% {\n",
              "      border-color: transparent;\n",
              "      border-right-color: var(--fill-color);\n",
              "      border-bottom-color: var(--fill-color);\n",
              "    }\n",
              "    90% {\n",
              "      border-color: transparent;\n",
              "      border-bottom-color: var(--fill-color);\n",
              "    }\n",
              "  }\n",
              "</style>\n",
              "\n",
              "  <script>\n",
              "    async function quickchart(key) {\n",
              "      const quickchartButtonEl =\n",
              "        document.querySelector('#' + key + ' button');\n",
              "      quickchartButtonEl.disabled = true;  // To prevent multiple clicks.\n",
              "      quickchartButtonEl.classList.add('colab-df-spinner');\n",
              "      try {\n",
              "        const charts = await google.colab.kernel.invokeFunction(\n",
              "            'suggestCharts', [key], {});\n",
              "      } catch (error) {\n",
              "        console.error('Error during call to suggestCharts:', error);\n",
              "      }\n",
              "      quickchartButtonEl.classList.remove('colab-df-spinner');\n",
              "      quickchartButtonEl.classList.add('colab-df-quickchart-complete');\n",
              "    }\n",
              "    (() => {\n",
              "      let quickchartButtonEl =\n",
              "        document.querySelector('#df-0bf75a24-a3a7-4153-b647-d35bd9178cb3 button');\n",
              "      quickchartButtonEl.style.display =\n",
              "        google.colab.kernel.accessAllowed ? 'block' : 'none';\n",
              "    })();\n",
              "  </script>\n",
              "</div>\n",
              "    </div>\n",
              "  </div>\n"
            ],
            "application/vnd.google.colaboratory.intrinsic+json": {
              "type": "dataframe",
              "variable_name": "test_ns_data2",
              "summary": "{\n  \"name\": \"test_ns_data2\",\n  \"rows\": 848,\n  \"fields\": [\n    {\n      \"column\": \"news_title\",\n      \"properties\": {\n        \"dtype\": \"string\",\n        \"num_unique_values\": 847,\n        \"samples\": [\n          \"Stray dog who visited car dealership every day gets adopted and lands dream job\",\n          \"One woman\\u2019s race to defuse the genetic time bomb in her genes\",\n          \"The man who saves forgotten cats in Fukushima's nuclear zone\"\n        ],\n        \"semantic_type\": \"\",\n        \"description\": \"\"\n      }\n    },\n    {\n      \"column\": \"reddit_title\",\n      \"properties\": {\n        \"dtype\": \"string\",\n        \"num_unique_values\": 848,\n        \"samples\": [\n          \"Church wipes out $46.5 million in medical debt\",\n          \"Austria is turning site of Hitler's birth into a police station to repel neo-Nazis\",\n          \"All 955 trapped South Africa gold miners resurface after 30-hour ordeal.\"\n        ],\n        \"semantic_type\": \"\",\n        \"description\": \"\"\n      }\n    },\n    {\n      \"column\": \"sentiment\",\n      \"properties\": {\n        \"dtype\": \"category\",\n        \"num_unique_values\": 2,\n        \"samples\": [\n          \"negative\",\n          \"positive\"\n        ],\n        \"semantic_type\": \"\",\n        \"description\": \"\"\n      }\n    },\n    {\n      \"column\": \"text\",\n      \"properties\": {\n        \"dtype\": \"string\",\n        \"num_unique_values\": 847,\n        \"samples\": [\n          \"Calling all dog lovers! Sign up to TeamDogs for your weekly dose of dog news, pictures and stories. Invalid Email Something went wrong, please try again later. Sign up Thank you for subscribing We have more newsletters Show me See our privacy notice\\n\\nPersistence has paid off for a stray dog who refused to stop turning up to a car dealership \\u2013 after he was adopted and simultaneously landed his dream job.\\n\\nThe lonely pooch kept going to a Hyundai Prime branch in Brazil, and after staff fell in love with him they decided to adopt him and put him to work.\\n\\nNewly-named Tucson Prime is now in charge of meeting and greeting customers to the dealership, and he couldn't be happier.\\n\\nAccording to Bored Panda, one night when it was particularly rainy, manager Emerson Mariano invited the pooch inside and let him have some food and water.\\n\\n(Image: tucson_prime/Instagram)\\n\\nBut he kept coming back after that, so staff at the dealership adopted him.\\n\\nTucson Prime's 'very caring and docile nature' gave managers an idea and now he's a fully-fledged employee.\\n\\nEmerson Mariano told media outlet Top Motors Brazil: \\\"After all, the company has always been pet friendly, so now, we decided to embrace this idea in practice too, having our own pet precisely at a more complicated time like this with so many abandoned animals.\\\"\\n\\n(Image: tucson_prime/Instagram)\\n\\nTucson Prime has also become a star on Instagram, and already has more than 108,000 followers.\\n\\nA recent post on the account said: \\\"Today my day started early, but it was not in sales, I am trying to read and answer the thousands, I swear, miles of messages I received in the last few days.\\n\\n\\\"But where I came from, I didn't have this technology. Me and my humans are still trying to find a way to deal with so much love and affection like that. If I didn't open your message or answered, I wanted to apologise, but we are trying our best to open all messages to try to thank you all, I am very happy with all this!\\\"\",\n          \"In 2011, Sonia Vallabh was handed a genetic report that contained a death sentence. But it also held a map for how to escape.\\n\\nHer body, she learned, harbored a gene mutation, a single wrong letter of DNA in her \\u201cprion\\u201d gene, that would eventually lead to a rare brain condition called fatal familial insomnia. Her mother had died of it the year before, and the test had revealed Vallabh had inherited the flaw too.\\n\\nBy now, the decision by Vallabh and her husband, Eric Minikel, to try to prevent her disease\\u2014\\u201ca prion love story,\\u201d the New Yorker called it\\u2014is well-known. After the diagnosis of the genetic time bomb, they dropped out of their careers in law and engineering and became scientists dedicated to defusing it. They expect to get PhDs next spring (see \\u201cSonia Vallabh, 35 Innovators Under 35, 2016\\u201d.)\\n\\nNow, after seven years, they think they have found a treatment that can do it. It\\u2019s called an antisense drug, a type of mirror-image molecule that, if it reaches the brain, could greatly reduce the amount of the prion protein. That could potentially forestall the mysterious chain reaction of misfolding proteins that characterize prion diseases.\\n\\nLess of the protein, Vallabh reasons, and less chance she\\u2019ll get sick.\\n\\nTwo weeks ago, on their blog, Vallabh announced she and Minikel were working with a commercial partner, the California biotech company Ionis, which specializes in antisense compounds. \\u201cFor the first time, I am optimistic about a specific therapeutic strategy,\\u201d she wrote. It\\u2019s \\u201cplausible\\u201d that antisense could treat the disease \\u201cin our lifetime.\\u201d\\n\\nVallabh\\u2019s race to prevent her own prion disease raises a question for the genetic age. Given a perfect DNA blueprint of your inherited disease, what\\u2019s your chance of stopping it in your lifetime, or that of someone you love?\\n\\nThere are reasons to think these types of medical long shots have become more likely to hit the mark. That is because gene sequencing can cheaply reveal molecular flaws, but also because a set of promising technologies\\u2014antisense, gene therapy, and CRISPR gene editing\\u2014are able to replace genes or silence them, in effect fixing genetic problems at their source.\\n\\nA close-up of up brain tissue affected by prions, misfolded protein that are toxic to neurons. wikimedia commons\\n\\nWhat\\u2019s more, these treatments employ the genetic code; they are actually made of DNA or RNA. That means that they\\u2019re fundamentally modular and programmable. At least on paper, it is now possible to take any genetic flaw and quickly sketch an antidote.\\n\\nIn reality, drug development is notoriously complicated. Most drugs fail, torn down by biological surprises and unexpected toxicity to the human body. But Vallabh says in the early, confusing days of her quest, she received critical advice from Eric Lander, the biologist who leads the Broad Institute, where she and Minikel now study and work. He told her to focus on the genetic error itself\\u2014the blueprint of which was in her diagnosis.\\n\\n\\u201cYou need to see what you have in your hand and stop looking,\\u201d she recalls him saying.\\n\\nThat meant not waiting to answer important scientific unknowns, like what the prion protein does in the body, or why, when it misfolds, it kills brain cells. \\u201cThere are so many interesting questions about prion disease,\\u201d says Vallabh, who is 34. \\u201cAnd those questions will still be there when we are treating it.\\u201d\\n\\nPrion diseases are profoundly strange because they\\u2019re caused not by a virus, but by an infectious protein. They include scrapie in sheep, Kuru (spread by cannibalism), Creutzfelt-Jakob disease, and the human version of mad cow disease.\\n\\nThe key drug insight was that mice engineered to lack the prion protein gene never get sick, even when scientists inject infectious prions into their brains. \\u201cThe biological concept of a prion is a protein that changes it conformation, and that can template further copies. It\\u2019s self-templating. That allows it to spread,\\u201d says Kurt Giles, a researcher in the lab at the University of California, San Francisco, where prions were first discovered. \\u201cThat leads to the idea of reducing the [protein]. The less of it there is, then you will get less templating.\\u201d\\n\\nFor genetic therapies, though, there\\u2019s a further problem, which is how to get them into the body so that they reach, for instance, billions of brain cells.\\n\\nAntisense technology, conceived decades ago, had its big breakthrough last year when a drug developed by Ionis proved to be astoundingly effective in treating a childhood neurological disorder, spinal muscular atrophy.\\n\\nBy then, Vallabh and Minikel had been introduced to Ionis, and the company had agreed to provide them with antisense compounds targeted to the prion gene to test in mice. Holly Kordasiewicz, the head of neuroscience at Ionis, recalls the 2014 meeting. \\u201cWe left the room saying we need to do everything that we can to help these people,\\u201d she says.\\n\\nThe company gave Vallabh and Minikel a to-do list, which they quickly worked through. Patient registry? Check. Animal studies? Check. Biomarker to show if a drug is working? That research, too, is under way at a Boston hospital studying prion protein levels in spinal fluid.\\n\\n\\u201cSonia and Eric are doing this with no real funding, just trying to make it happen,\\u201d says Jeff Carroll, another patient scientist (he\\u2019s got the mutation for Huntington\\u2019s disease), who introduced them to Ionis.\\n\\nOne problem not as easily addressed is that prion disease is astoundingly rare, quickly fatal, and rarely diagnosed in advance. That means there has been no great clamor for treatments. Maybe only 200 people in the U.S. know they have a time bomb like Vallabh, she says, and there\\u2019s not a single drug currently in human testing. Early on, Ionis let the pair know the collaboration was strictly academic and not a commercial prospect.\\n\\nBut by blotting out the prion protein at its source, an antisense treatment might help with a range of rare conditions linked to it. Fatal insomnia is vanishingly uncommon, as are cases of mad cow disease, but adding these \\u201cultra-rare\\u201d diseases together makes them, as a group, slightly less rare.\\n\\nVallabh and Minikel say they now have proof that Ionis\\u2019s antisense molecules partly protect mice from prion disease. Those animals given the drug live about 70 percent longer.\\n\\nKordasiewicz now terms the program a \\u201ccommercial\\u201d project at Ionis, though it remains too small and early-stage to appear on the company\\u2019s pipeline chart of drugs under development. \\u201cWhat changed is the data is looking good enough that we think we can have a drug in five years,\\u201d she says.\\n\\nVallabh hopes it can all go even faster. The fatal insomnia could begin to afflict her tomorrow, or in 30 years. There\\u2019s no way to predict it. She and Minikel just had their first child. The girl was conceived through IVF, and Vallabh says the lab employed a genetic test to assure them she wouldn\\u2019t carry the mutation.\\n\\nTo save herself, it\\u2019s not going to be enough to have a drug. She needs to get it before she ever falls ill. Yet doctors have little experience giving such a genetic drug over many years as a form of prevention.\\n\\nFiguring out how to carry off such a study is the next challenge for Vallabh and her husband. It appears they hope the US Food and Drug Administration will permit a prevention trial in patients who carry the prion mutations. Since it can take decades for people to get sick (or not), such a study would instead rely on a biomarker, such as whether antisense injections can reduce prion protein levels in the spinal fluid.\\n\\nVallabh told me she would volunteer to take the drug. \\u201cThe big picture,\\u201d she says, \\u201cis we are moving much more quickly than anyone could expect due to this beautifully clear genetic blueprint we were handed.\\u201d\"\n        ],\n        \"semantic_type\": \"\",\n        \"description\": \"\"\n      }\n    },\n    {\n      \"column\": \"url\",\n      \"properties\": {\n        \"dtype\": \"string\",\n        \"num_unique_values\": 848,\n        \"samples\": [\n          \"https://www.cincinnati.com/story/news/2020/02/24/crossroads-church-nonprofit-wipe-out-46-5-million-medical-debt/4854753002/?fbclid=IwAR1MMDWZKi9U_rQ8bwSZB_irls6Ejjqgu4oMrZuozZ23yI8qG5tIEKw59-s\",\n          \"https://theweek.com/speedreads/879727/austria-turning-site-hitlers-birth-into-police-station-repel-neonazis\"\n        ],\n        \"semantic_type\": \"\",\n        \"description\": \"\"\n      }\n    },\n    {\n      \"column\": \"predicted_sentiment\",\n      \"properties\": {\n        \"dtype\": \"object\",\n        \"num_unique_values\": 1,\n        \"samples\": [\n          \"\"\n        ],\n        \"semantic_type\": \"\",\n        \"description\": \"\"\n      }\n    }\n  ]\n}"
            }
          },
          "metadata": {},
          "execution_count": 122
        }
      ]
    },
    {
      "cell_type": "code",
      "source": [
        "nlp = spacy.load('en_core_web_sm')\n",
        "nlp.add_pipe(\"merge_noun_chunks\")\n",
        "for i in range(test_ns_data2.shape[0]):\n",
        "  if i%200==0:\n",
        "    print(i)\n",
        "  text_to_check=test_ns_data2['text'][i]\n",
        "  test_ns_data2['predicted_sentiment'][i]=graph_sentiment_analysis(text_to_check, calculate_overall_score=1, nlp=nlp, threshold=0.0)"
      ],
      "metadata": {
        "colab": {
          "base_uri": "https://localhost:8080/"
        },
        "id": "nKNRXqOx2Alb",
        "outputId": "d40a7f04-39e3-4d5f-96eb-e826526b72bf"
      },
      "execution_count": 123,
      "outputs": [
        {
          "output_type": "stream",
          "name": "stdout",
          "text": [
            "0\n",
            "200\n",
            "400\n",
            "600\n",
            "800\n"
          ]
        }
      ]
    },
    {
      "cell_type": "code",
      "source": [
        "accuracy_ns=np.sum(test_ns_data2['sentiment']==test_ns_data2['predicted_sentiment'])/test_ns_data2.shape[0]"
      ],
      "metadata": {
        "id": "MiBxBB6P43Ad"
      },
      "execution_count": 124,
      "outputs": []
    },
    {
      "cell_type": "code",
      "source": [
        "ba_ns=balanced_accuracy_score(test_ns_data2['sentiment'], test_ns_data2['predicted_sentiment'])"
      ],
      "metadata": {
        "colab": {
          "base_uri": "https://localhost:8080/"
        },
        "id": "7ZBHu4LG2MEe",
        "outputId": "bd676780-5265-4760-8633-795e3e23d3db"
      },
      "execution_count": 125,
      "outputs": [
        {
          "output_type": "stream",
          "name": "stderr",
          "text": [
            "/usr/local/lib/python3.10/dist-packages/sklearn/metrics/_classification.py:2184: UserWarning: y_pred contains classes not in y_true\n",
            "  warnings.warn(\"y_pred contains classes not in y_true\")\n"
          ]
        }
      ]
    },
    {
      "cell_type": "code",
      "source": [
        "accuracy_ns, ba_ns"
      ],
      "metadata": {
        "colab": {
          "base_uri": "https://localhost:8080/"
        },
        "id": "XbrT1SEm5EXn",
        "outputId": "a87b6589-f325-4b4a-dc97-2504cb592550"
      },
      "execution_count": 126,
      "outputs": [
        {
          "output_type": "execute_result",
          "data": {
            "text/plain": [
              "(0.7570754716981132, 0.7626737967914439)"
            ]
          },
          "metadata": {},
          "execution_count": 126
        }
      ]
    },
    {
      "cell_type": "code",
      "source": [
        "len(max(test_ns_data2['text'], key=len).split()) #12706 words"
      ],
      "metadata": {
        "colab": {
          "base_uri": "https://localhost:8080/"
        },
        "id": "M_VwYn-K5Jl4",
        "outputId": "82cc3241-313c-4bc8-c19e-06c1a004e85f"
      },
      "execution_count": 129,
      "outputs": [
        {
          "output_type": "execute_result",
          "data": {
            "text/plain": [
              "12706"
            ]
          },
          "metadata": {},
          "execution_count": 129
        }
      ]
    },
    {
      "cell_type": "code",
      "source": [
        "len(max(test_tse_data['text'], key=len).split()) #20 words"
      ],
      "metadata": {
        "colab": {
          "base_uri": "https://localhost:8080/"
        },
        "id": "a4j7813K5a1v",
        "outputId": "4d853860-f4ff-47c5-899b-f9c989cd84ab"
      },
      "execution_count": 131,
      "outputs": [
        {
          "output_type": "execute_result",
          "data": {
            "text/plain": [
              "20"
            ]
          },
          "metadata": {},
          "execution_count": 131
        }
      ]
    },
    {
      "cell_type": "code",
      "source": [],
      "metadata": {
        "id": "Jr_HngkG5iAQ"
      },
      "execution_count": null,
      "outputs": []
    }
  ]
}